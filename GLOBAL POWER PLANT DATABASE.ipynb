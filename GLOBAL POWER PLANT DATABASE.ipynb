{
 "cells": [
  {
   "cell_type": "markdown",
   "metadata": {},
   "source": [
    "# Global Power Plant Database Assignment"
   ]
  },
  {
   "cell_type": "code",
   "execution_count": 220,
   "metadata": {},
   "outputs": [
    {
     "data": {
      "text/html": [
       "<img src=\"https://th.bing.com/th/id/OIP.6SNayJZ1cWAo5XWZrwIAdgHaED?pid=ImgDet&rs=1\"/>"
      ],
      "text/plain": [
       "<IPython.core.display.Image object>"
      ]
     },
     "execution_count": 220,
     "metadata": {},
     "output_type": "execute_result"
    }
   ],
   "source": [
    "from IPython.display import Image\n",
    "Image(url= \"https://th.bing.com/th/id/OIP.6SNayJZ1cWAo5XWZrwIAdgHaED?pid=ImgDet&rs=1\")"
   ]
  },
  {
   "cell_type": "markdown",
   "metadata": {},
   "source": [
    "## Introduction"
   ]
  },
  {
   "cell_type": "markdown",
   "metadata": {},
   "source": [
    "### Good infrastructure is an essential component for the economic growth of a country, and power plays a crucial role in infrastructure development.\n",
    "### The majority of thermal power plants in India were set up during the late 1990s and have been facing the problems of declining efficiency.\n",
    "### A power plant is said to be inefficient if the existing inputs are not utilized in an optimum manner, and as a result, its generation becomes lower than its maximum possible generation.\n",
    "### Even though the Government of India (GoI) has been trying to focus equally on both the demand and supply side of power, major emphasis has been on capacity addition only.\n",
    "### Power is among the most critical component of infrastructure, crucial for the economic growth and welfare of nations. The existence and development of adequate infrastructure is essential for sustained growth of the Indian economy.\n",
    "### India’s power sector is one of the most diversified in the world. Sources of power generation range from conventional sources such as coal, lignite, natural gas, oil, hydro and nuclear power to viable non-conventional sources such as wind, solar, and agricultural and domestic waste. Electricity demand in the country has increased rapidly and is expected to rise further in the years to come. In order to meet the increasing demand for electricity in the country, massive addition to the installed generating capacity is required."
   ]
  },
  {
   "cell_type": "markdown",
   "metadata": {},
   "source": [
    "## Description about the Data Columns"
   ]
  },
  {
   "cell_type": "markdown",
   "metadata": {},
   "source": [
    "### Global Pwer Plant has these Data Columns:\n",
    " 1)    country                    \n",
    " 2)  country_long              \n",
    " 3)   name                     \n",
    " 4)   gppd_idnr               \n",
    " 5)  capacity_mw               \n",
    " 6)  latitude                  \n",
    " 7)   longitude                \n",
    " 8)   primary_fuel              \n",
    " 9)  other_fuel1                \n",
    "10)   other_fuel2               \n",
    "11)  other_fuel3               \n",
    "12)  commissioning_year        \n",
    "13)  owner                      \n",
    "14)  source                    \n",
    "15)  url                       \n",
    "16)  geolocation_source         \n",
    "17)  wepp_id                   \n",
    "18)  year_of_capacity_data     \n",
    "19)  generation_gwh_2013       \n",
    "20)  generation_gwh_2014       \n",
    "21)  generation_gwh_2015       \n",
    "22)  generation_gwh_2016       \n",
    "23)  generation_gwh_2017       \n",
    "24)  generation_data_source     \n",
    "25)  estimated_generation_gwh"
   ]
  },
  {
   "cell_type": "markdown",
   "metadata": {},
   "source": [
    "## Importing all the Necessary libraries"
   ]
  },
  {
   "cell_type": "code",
   "execution_count": 113,
   "metadata": {
    "scrolled": false
   },
   "outputs": [
    {
     "name": "stdout",
     "output_type": "stream",
     "text": [
      "Requirement already up-to-date: scikit-learn in c:\\users\\user\\anaconda3\\lib\\site-packages (0.24.2)\n",
      "Requirement already satisfied, skipping upgrade: scipy>=0.19.1 in c:\\users\\user\\anaconda3\\lib\\site-packages (from scikit-learn) (1.5.2)\n",
      "Requirement already satisfied, skipping upgrade: joblib>=0.11 in c:\\users\\user\\anaconda3\\lib\\site-packages (from scikit-learn) (0.17.0)\n",
      "Requirement already satisfied, skipping upgrade: numpy>=1.13.3 in c:\\users\\user\\anaconda3\\lib\\site-packages (from scikit-learn) (1.19.2)\n",
      "Requirement already satisfied, skipping upgrade: threadpoolctl>=2.0.0 in c:\\users\\user\\anaconda3\\lib\\site-packages (from scikit-learn) (2.1.0)\n",
      "Note: you may need to restart the kernel to use updated packages.\n"
     ]
    }
   ],
   "source": [
    "pip install -U scikit-learn"
   ]
  },
  {
   "cell_type": "code",
   "execution_count": 214,
   "metadata": {
    "scrolled": true
   },
   "outputs": [
    {
     "name": "stderr",
     "output_type": "stream",
     "text": [
      "UsageError: Line magic function `%` not found.\n"
     ]
    }
   ],
   "source": [
    "# import libraries\n",
    "import pandas as pd\n",
    "import numpy as np\n",
    "import matplotlib.pyplot as plt\n",
    "import seaborn as sns\n",
    "from scipy.stats import zscore\n",
    "\n",
    "# preprocession, normalizing\n",
    "from sklearn.preprocessing import LabelEncoder\n",
    "from sklearn.preprocessing import StandardScaler\n",
    "from sklearn.feature_selection import SelectKBest,f_classif\n",
    "from sklearn.decomposition import PCA\n",
    "\n",
    "# for multicollinearity\n",
    "from statsmodels.stats.outliers_influence import variance_inflation_factor\n",
    "\n",
    "# models\n",
    "\n",
    "from sklearn import model_selection\n",
    "from sklearn.model_selection import train_test_split, GridSearchCV\n",
    "from sklearn.linear_model import LogisticRegression\n",
    "from sklearn.neighbors import KNeighborsClassifier\n",
    "from sklearn.tree import DecisionTreeClassifier\n",
    "from sklearn.ensemble import RandomForestClassifier\n",
    "from sklearn.linear_model import LinearRegression\n",
    "from sklearn.tree import DecisionTreeRegressor\n",
    "from sklearn.ensemble import RandomForestRegressor\n",
    "from sklearn.linear_model import Lasso, LassoCV\n",
    "from sklearn.metrics import f1_score, confusion_matrix\n",
    "from sklearn.metrics import classification_report,confusion_matrix,plot_confusion_matrix,roc_curve, roc_auc_score\n",
    "\n",
    "# preprocessing and normalizing\n",
    "from sklearn.preprocessing import LabelEncoder\n",
    "\n",
    "# metrics\n",
    "from sklearn.metrics import accuracy_score,confusion_matrix,classification_report,roc_curve,roc_auc_score\n",
    "from sklearn.metrics import plot_roc_curve\n",
    "from sklearn.metrics import accuracy_score\n",
    "from sklearn.metrics import mean_squared_error\n",
    "from sklearn.metrics import r2_score\n",
    "\n",
    "\n",
    "\n",
    "lr = LogisticRegression(random_state = 6)\n",
    "knn = KNeighborsClassifier()\n",
    "rf = RandomForestClassifier(random_state = 6)\n",
    "dt = DecisionTreeClassifier(random_state = 6)\n",
    "\n",
    "\n",
    "import warnings\n",
    "warnings.filterwarnings('ignore')\n",
    "% matplotlib inline"
   ]
  },
  {
   "cell_type": "markdown",
   "metadata": {},
   "source": [
    "#### Above I am importing all the important Libraries in one go so that I can use these libraries to make good Model Prediction."
   ]
  },
  {
   "cell_type": "markdown",
   "metadata": {},
   "source": [
    "## CONTEXT"
   ]
  },
  {
   "cell_type": "markdown",
   "metadata": {},
   "source": [
    "### First I have used Classification preocess for Predicting 'primary_fuel' Prediction than I have applied Regreession Process for Predicting 'capacity_mw' in this Assignment."
   ]
  },
  {
   "cell_type": "markdown",
   "metadata": {},
   "source": [
    "## Loading csv data"
   ]
  },
  {
   "cell_type": "markdown",
   "metadata": {},
   "source": [
    "### Now I am going to upload or read the files/data-sets using pandas. For this we used read_csv"
   ]
  },
  {
   "cell_type": "code",
   "execution_count": 115,
   "metadata": {
    "scrolled": true
   },
   "outputs": [
    {
     "data": {
      "text/html": [
       "<div>\n",
       "<style scoped>\n",
       "    .dataframe tbody tr th:only-of-type {\n",
       "        vertical-align: middle;\n",
       "    }\n",
       "\n",
       "    .dataframe tbody tr th {\n",
       "        vertical-align: top;\n",
       "    }\n",
       "\n",
       "    .dataframe thead th {\n",
       "        text-align: right;\n",
       "    }\n",
       "</style>\n",
       "<table border=\"1\" class=\"dataframe\">\n",
       "  <thead>\n",
       "    <tr style=\"text-align: right;\">\n",
       "      <th></th>\n",
       "      <th>country</th>\n",
       "      <th>country_long</th>\n",
       "      <th>name</th>\n",
       "      <th>gppd_idnr</th>\n",
       "      <th>capacity_mw</th>\n",
       "      <th>latitude</th>\n",
       "      <th>longitude</th>\n",
       "      <th>primary_fuel</th>\n",
       "      <th>other_fuel1</th>\n",
       "      <th>other_fuel2</th>\n",
       "      <th>...</th>\n",
       "      <th>geolocation_source</th>\n",
       "      <th>wepp_id</th>\n",
       "      <th>year_of_capacity_data</th>\n",
       "      <th>generation_gwh_2013</th>\n",
       "      <th>generation_gwh_2014</th>\n",
       "      <th>generation_gwh_2015</th>\n",
       "      <th>generation_gwh_2016</th>\n",
       "      <th>generation_gwh_2017</th>\n",
       "      <th>generation_data_source</th>\n",
       "      <th>estimated_generation_gwh</th>\n",
       "    </tr>\n",
       "  </thead>\n",
       "  <tbody>\n",
       "    <tr>\n",
       "      <th>0</th>\n",
       "      <td>IND</td>\n",
       "      <td>India</td>\n",
       "      <td>ACME Solar Tower</td>\n",
       "      <td>WRI1020239</td>\n",
       "      <td>2.5</td>\n",
       "      <td>28.1839</td>\n",
       "      <td>73.2407</td>\n",
       "      <td>Solar</td>\n",
       "      <td>NaN</td>\n",
       "      <td>NaN</td>\n",
       "      <td>...</td>\n",
       "      <td>National Renewable Energy Laboratory</td>\n",
       "      <td>NaN</td>\n",
       "      <td>NaN</td>\n",
       "      <td>NaN</td>\n",
       "      <td>NaN</td>\n",
       "      <td>NaN</td>\n",
       "      <td>NaN</td>\n",
       "      <td>NaN</td>\n",
       "      <td>NaN</td>\n",
       "      <td>NaN</td>\n",
       "    </tr>\n",
       "    <tr>\n",
       "      <th>1</th>\n",
       "      <td>IND</td>\n",
       "      <td>India</td>\n",
       "      <td>ADITYA CEMENT WORKS</td>\n",
       "      <td>WRI1019881</td>\n",
       "      <td>98.0</td>\n",
       "      <td>24.7663</td>\n",
       "      <td>74.6090</td>\n",
       "      <td>Coal</td>\n",
       "      <td>NaN</td>\n",
       "      <td>NaN</td>\n",
       "      <td>...</td>\n",
       "      <td>WRI</td>\n",
       "      <td>NaN</td>\n",
       "      <td>NaN</td>\n",
       "      <td>NaN</td>\n",
       "      <td>NaN</td>\n",
       "      <td>NaN</td>\n",
       "      <td>NaN</td>\n",
       "      <td>NaN</td>\n",
       "      <td>NaN</td>\n",
       "      <td>NaN</td>\n",
       "    </tr>\n",
       "    <tr>\n",
       "      <th>2</th>\n",
       "      <td>IND</td>\n",
       "      <td>India</td>\n",
       "      <td>AES Saurashtra Windfarms</td>\n",
       "      <td>WRI1026669</td>\n",
       "      <td>39.2</td>\n",
       "      <td>21.9038</td>\n",
       "      <td>69.3732</td>\n",
       "      <td>Wind</td>\n",
       "      <td>NaN</td>\n",
       "      <td>NaN</td>\n",
       "      <td>...</td>\n",
       "      <td>WRI</td>\n",
       "      <td>NaN</td>\n",
       "      <td>NaN</td>\n",
       "      <td>NaN</td>\n",
       "      <td>NaN</td>\n",
       "      <td>NaN</td>\n",
       "      <td>NaN</td>\n",
       "      <td>NaN</td>\n",
       "      <td>NaN</td>\n",
       "      <td>NaN</td>\n",
       "    </tr>\n",
       "    <tr>\n",
       "      <th>3</th>\n",
       "      <td>IND</td>\n",
       "      <td>India</td>\n",
       "      <td>AGARTALA GT</td>\n",
       "      <td>IND0000001</td>\n",
       "      <td>135.0</td>\n",
       "      <td>23.8712</td>\n",
       "      <td>91.3602</td>\n",
       "      <td>Gas</td>\n",
       "      <td>NaN</td>\n",
       "      <td>NaN</td>\n",
       "      <td>...</td>\n",
       "      <td>WRI</td>\n",
       "      <td>NaN</td>\n",
       "      <td>2018.0</td>\n",
       "      <td>631.777928</td>\n",
       "      <td>617.789264</td>\n",
       "      <td>843.747</td>\n",
       "      <td>886.004428</td>\n",
       "      <td>663.774500</td>\n",
       "      <td>Central Electricity Authority</td>\n",
       "      <td>NaN</td>\n",
       "    </tr>\n",
       "    <tr>\n",
       "      <th>4</th>\n",
       "      <td>IND</td>\n",
       "      <td>India</td>\n",
       "      <td>AKALTARA TPP</td>\n",
       "      <td>IND0000002</td>\n",
       "      <td>1800.0</td>\n",
       "      <td>21.9603</td>\n",
       "      <td>82.4091</td>\n",
       "      <td>Coal</td>\n",
       "      <td>Oil</td>\n",
       "      <td>NaN</td>\n",
       "      <td>...</td>\n",
       "      <td>WRI</td>\n",
       "      <td>NaN</td>\n",
       "      <td>2018.0</td>\n",
       "      <td>1668.290000</td>\n",
       "      <td>3035.550000</td>\n",
       "      <td>5916.370</td>\n",
       "      <td>6243.000000</td>\n",
       "      <td>5385.579736</td>\n",
       "      <td>Central Electricity Authority</td>\n",
       "      <td>NaN</td>\n",
       "    </tr>\n",
       "  </tbody>\n",
       "</table>\n",
       "<p>5 rows × 25 columns</p>\n",
       "</div>"
      ],
      "text/plain": [
       "  country country_long                      name   gppd_idnr  capacity_mw  \\\n",
       "0     IND        India          ACME Solar Tower  WRI1020239          2.5   \n",
       "1     IND        India       ADITYA CEMENT WORKS  WRI1019881         98.0   \n",
       "2     IND        India  AES Saurashtra Windfarms  WRI1026669         39.2   \n",
       "3     IND        India               AGARTALA GT  IND0000001        135.0   \n",
       "4     IND        India              AKALTARA TPP  IND0000002       1800.0   \n",
       "\n",
       "   latitude  longitude primary_fuel other_fuel1 other_fuel2  ...  \\\n",
       "0   28.1839    73.2407        Solar         NaN         NaN  ...   \n",
       "1   24.7663    74.6090         Coal         NaN         NaN  ...   \n",
       "2   21.9038    69.3732         Wind         NaN         NaN  ...   \n",
       "3   23.8712    91.3602          Gas         NaN         NaN  ...   \n",
       "4   21.9603    82.4091         Coal         Oil         NaN  ...   \n",
       "\n",
       "                     geolocation_source  wepp_id year_of_capacity_data  \\\n",
       "0  National Renewable Energy Laboratory      NaN                   NaN   \n",
       "1                                   WRI      NaN                   NaN   \n",
       "2                                   WRI      NaN                   NaN   \n",
       "3                                   WRI      NaN                2018.0   \n",
       "4                                   WRI      NaN                2018.0   \n",
       "\n",
       "  generation_gwh_2013 generation_gwh_2014 generation_gwh_2015  \\\n",
       "0                 NaN                 NaN                 NaN   \n",
       "1                 NaN                 NaN                 NaN   \n",
       "2                 NaN                 NaN                 NaN   \n",
       "3          631.777928          617.789264             843.747   \n",
       "4         1668.290000         3035.550000            5916.370   \n",
       "\n",
       "   generation_gwh_2016  generation_gwh_2017         generation_data_source  \\\n",
       "0                  NaN                  NaN                            NaN   \n",
       "1                  NaN                  NaN                            NaN   \n",
       "2                  NaN                  NaN                            NaN   \n",
       "3           886.004428           663.774500  Central Electricity Authority   \n",
       "4          6243.000000          5385.579736  Central Electricity Authority   \n",
       "\n",
       "   estimated_generation_gwh  \n",
       "0                       NaN  \n",
       "1                       NaN  \n",
       "2                       NaN  \n",
       "3                       NaN  \n",
       "4                       NaN  \n",
       "\n",
       "[5 rows x 25 columns]"
      ]
     },
     "execution_count": 115,
     "metadata": {},
     "output_type": "execute_result"
    }
   ],
   "source": [
    "# Reading the dataset\n",
    "\n",
    "df = pd.read_csv('database_IND.csv')\n",
    "df.head()"
   ]
  },
  {
   "cell_type": "markdown",
   "metadata": {},
   "source": [
    "### Then I get the top 5 values. I can get using the head function."
   ]
  },
  {
   "cell_type": "code",
   "execution_count": 116,
   "metadata": {},
   "outputs": [
    {
     "data": {
      "text/plain": [
       "(908, 25)"
      ]
     },
     "execution_count": 116,
     "metadata": {},
     "output_type": "execute_result"
    }
   ],
   "source": [
    "df.shape"
   ]
  },
  {
   "cell_type": "markdown",
   "metadata": {},
   "source": [
    "### There are altogether 908 rows and 25 columns in income census dataset."
   ]
  },
  {
   "cell_type": "code",
   "execution_count": 117,
   "metadata": {
    "scrolled": true
   },
   "outputs": [
    {
     "name": "stdout",
     "output_type": "stream",
     "text": [
      "<class 'pandas.core.frame.DataFrame'>\n",
      "RangeIndex: 908 entries, 0 to 907\n",
      "Data columns (total 25 columns):\n",
      " #   Column                    Non-Null Count  Dtype  \n",
      "---  ------                    --------------  -----  \n",
      " 0   country                   908 non-null    object \n",
      " 1   country_long              908 non-null    object \n",
      " 2   name                      908 non-null    object \n",
      " 3   gppd_idnr                 908 non-null    object \n",
      " 4   capacity_mw               908 non-null    float64\n",
      " 5   latitude                  862 non-null    float64\n",
      " 6   longitude                 862 non-null    float64\n",
      " 7   primary_fuel              908 non-null    object \n",
      " 8   other_fuel1               199 non-null    object \n",
      " 9   other_fuel2               1 non-null      object \n",
      " 10  other_fuel3               0 non-null      float64\n",
      " 11  commissioning_year        528 non-null    float64\n",
      " 12  owner                     342 non-null    object \n",
      " 13  source                    908 non-null    object \n",
      " 14  url                       908 non-null    object \n",
      " 15  geolocation_source        889 non-null    object \n",
      " 16  wepp_id                   0 non-null      float64\n",
      " 17  year_of_capacity_data     520 non-null    float64\n",
      " 18  generation_gwh_2013       384 non-null    float64\n",
      " 19  generation_gwh_2014       401 non-null    float64\n",
      " 20  generation_gwh_2015       425 non-null    float64\n",
      " 21  generation_gwh_2016       437 non-null    float64\n",
      " 22  generation_gwh_2017       443 non-null    float64\n",
      " 23  generation_data_source    450 non-null    object \n",
      " 24  estimated_generation_gwh  0 non-null      float64\n",
      "dtypes: float64(13), object(12)\n",
      "memory usage: 177.5+ KB\n"
     ]
    }
   ],
   "source": [
    "# lets find out is there any null value in any columns\n",
    "\n",
    "pd.set_option('display.max_rows',None)\n",
    "df.info()"
   ]
  },
  {
   "cell_type": "markdown",
   "metadata": {},
   "source": [
    "### In Global Pwer Plant India dataset most of the columns are categorical in nature.\n",
    "\n",
    "### All the columns count are equal that 908 so there is 'NAN' missing values in this dataset.\n",
    "\n",
    "### There are 13 float64 type columns are 12 object type columns in dataset."
   ]
  },
  {
   "cell_type": "code",
   "execution_count": 118,
   "metadata": {},
   "outputs": [],
   "source": [
    "df.drop_duplicates(inplace = True)"
   ]
  },
  {
   "cell_type": "code",
   "execution_count": 119,
   "metadata": {},
   "outputs": [
    {
     "data": {
      "text/plain": [
       "(908, 25)"
      ]
     },
     "execution_count": 119,
     "metadata": {},
     "output_type": "execute_result"
    }
   ],
   "source": [
    "df.shape"
   ]
  },
  {
   "cell_type": "markdown",
   "metadata": {},
   "source": [
    "### There is no duplicates value in dataset."
   ]
  },
  {
   "cell_type": "code",
   "execution_count": 120,
   "metadata": {
    "scrolled": true
   },
   "outputs": [
    {
     "data": {
      "text/plain": [
       "country                       1\n",
       "country_long                  1\n",
       "name                        908\n",
       "gppd_idnr                   908\n",
       "capacity_mw                 365\n",
       "latitude                    837\n",
       "longitude                   828\n",
       "primary_fuel                  8\n",
       "other_fuel1                   3\n",
       "other_fuel2                   1\n",
       "other_fuel3                   0\n",
       "commissioning_year           73\n",
       "owner                       280\n",
       "source                      191\n",
       "url                         304\n",
       "geolocation_source            3\n",
       "wepp_id                       0\n",
       "year_of_capacity_data         1\n",
       "generation_gwh_2013         364\n",
       "generation_gwh_2014         374\n",
       "generation_gwh_2015         398\n",
       "generation_gwh_2016         405\n",
       "generation_gwh_2017         410\n",
       "generation_data_source        1\n",
       "estimated_generation_gwh      0\n",
       "dtype: int64"
      ]
     },
     "execution_count": 120,
     "metadata": {},
     "output_type": "execute_result"
    }
   ],
   "source": [
    "df.nunique()"
   ]
  },
  {
   "cell_type": "markdown",
   "metadata": {},
   "source": [
    "### Almost all the columns are categorical in nature only :\n",
    "#### name,gppd_idnr,capacity_mw,latitude,latitude,longitude,commissioning_year,owner,source,url, generation_gwh_2013,generation_gwh_2014,generation_gwh_2015,generation_gwh_2016,generation_gwh_2017 are continous in nature."
   ]
  },
  {
   "cell_type": "code",
   "execution_count": 121,
   "metadata": {
    "scrolled": true
   },
   "outputs": [
    {
     "data": {
      "text/html": [
       "<div>\n",
       "<style scoped>\n",
       "    .dataframe tbody tr th:only-of-type {\n",
       "        vertical-align: middle;\n",
       "    }\n",
       "\n",
       "    .dataframe tbody tr th {\n",
       "        vertical-align: top;\n",
       "    }\n",
       "\n",
       "    .dataframe thead th {\n",
       "        text-align: right;\n",
       "    }\n",
       "</style>\n",
       "<table border=\"1\" class=\"dataframe\">\n",
       "  <thead>\n",
       "    <tr style=\"text-align: right;\">\n",
       "      <th></th>\n",
       "      <th>country</th>\n",
       "      <th>country_long</th>\n",
       "      <th>name</th>\n",
       "      <th>gppd_idnr</th>\n",
       "      <th>capacity_mw</th>\n",
       "      <th>latitude</th>\n",
       "      <th>longitude</th>\n",
       "      <th>primary_fuel</th>\n",
       "      <th>other_fuel1</th>\n",
       "      <th>other_fuel2</th>\n",
       "      <th>...</th>\n",
       "      <th>geolocation_source</th>\n",
       "      <th>wepp_id</th>\n",
       "      <th>year_of_capacity_data</th>\n",
       "      <th>generation_gwh_2013</th>\n",
       "      <th>generation_gwh_2014</th>\n",
       "      <th>generation_gwh_2015</th>\n",
       "      <th>generation_gwh_2016</th>\n",
       "      <th>generation_gwh_2017</th>\n",
       "      <th>generation_data_source</th>\n",
       "      <th>estimated_generation_gwh</th>\n",
       "    </tr>\n",
       "  </thead>\n",
       "  <tbody>\n",
       "    <tr>\n",
       "      <th>count</th>\n",
       "      <td>908</td>\n",
       "      <td>908</td>\n",
       "      <td>908</td>\n",
       "      <td>908</td>\n",
       "      <td>908.000000</td>\n",
       "      <td>862.000000</td>\n",
       "      <td>862.000000</td>\n",
       "      <td>908</td>\n",
       "      <td>199</td>\n",
       "      <td>1</td>\n",
       "      <td>...</td>\n",
       "      <td>889</td>\n",
       "      <td>0.0</td>\n",
       "      <td>520.0</td>\n",
       "      <td>384.000000</td>\n",
       "      <td>401.000000</td>\n",
       "      <td>425.000000</td>\n",
       "      <td>437.000000</td>\n",
       "      <td>443.000000</td>\n",
       "      <td>450</td>\n",
       "      <td>0.0</td>\n",
       "    </tr>\n",
       "    <tr>\n",
       "      <th>unique</th>\n",
       "      <td>1</td>\n",
       "      <td>1</td>\n",
       "      <td>908</td>\n",
       "      <td>908</td>\n",
       "      <td>NaN</td>\n",
       "      <td>NaN</td>\n",
       "      <td>NaN</td>\n",
       "      <td>8</td>\n",
       "      <td>3</td>\n",
       "      <td>1</td>\n",
       "      <td>...</td>\n",
       "      <td>3</td>\n",
       "      <td>NaN</td>\n",
       "      <td>NaN</td>\n",
       "      <td>NaN</td>\n",
       "      <td>NaN</td>\n",
       "      <td>NaN</td>\n",
       "      <td>NaN</td>\n",
       "      <td>NaN</td>\n",
       "      <td>1</td>\n",
       "      <td>NaN</td>\n",
       "    </tr>\n",
       "    <tr>\n",
       "      <th>top</th>\n",
       "      <td>IND</td>\n",
       "      <td>India</td>\n",
       "      <td>TANAKPUR</td>\n",
       "      <td>WRI1019976</td>\n",
       "      <td>NaN</td>\n",
       "      <td>NaN</td>\n",
       "      <td>NaN</td>\n",
       "      <td>Coal</td>\n",
       "      <td>Oil</td>\n",
       "      <td>Oil</td>\n",
       "      <td>...</td>\n",
       "      <td>WRI</td>\n",
       "      <td>NaN</td>\n",
       "      <td>NaN</td>\n",
       "      <td>NaN</td>\n",
       "      <td>NaN</td>\n",
       "      <td>NaN</td>\n",
       "      <td>NaN</td>\n",
       "      <td>NaN</td>\n",
       "      <td>Central Electricity Authority</td>\n",
       "      <td>NaN</td>\n",
       "    </tr>\n",
       "    <tr>\n",
       "      <th>freq</th>\n",
       "      <td>908</td>\n",
       "      <td>908</td>\n",
       "      <td>1</td>\n",
       "      <td>1</td>\n",
       "      <td>NaN</td>\n",
       "      <td>NaN</td>\n",
       "      <td>NaN</td>\n",
       "      <td>259</td>\n",
       "      <td>196</td>\n",
       "      <td>1</td>\n",
       "      <td>...</td>\n",
       "      <td>766</td>\n",
       "      <td>NaN</td>\n",
       "      <td>NaN</td>\n",
       "      <td>NaN</td>\n",
       "      <td>NaN</td>\n",
       "      <td>NaN</td>\n",
       "      <td>NaN</td>\n",
       "      <td>NaN</td>\n",
       "      <td>450</td>\n",
       "      <td>NaN</td>\n",
       "    </tr>\n",
       "    <tr>\n",
       "      <th>mean</th>\n",
       "      <td>NaN</td>\n",
       "      <td>NaN</td>\n",
       "      <td>NaN</td>\n",
       "      <td>NaN</td>\n",
       "      <td>321.046378</td>\n",
       "      <td>21.196189</td>\n",
       "      <td>77.447848</td>\n",
       "      <td>NaN</td>\n",
       "      <td>NaN</td>\n",
       "      <td>NaN</td>\n",
       "      <td>...</td>\n",
       "      <td>NaN</td>\n",
       "      <td>NaN</td>\n",
       "      <td>2018.0</td>\n",
       "      <td>2304.059202</td>\n",
       "      <td>2420.393316</td>\n",
       "      <td>2414.072373</td>\n",
       "      <td>2453.936292</td>\n",
       "      <td>2531.754458</td>\n",
       "      <td>NaN</td>\n",
       "      <td>NaN</td>\n",
       "    </tr>\n",
       "    <tr>\n",
       "      <th>std</th>\n",
       "      <td>NaN</td>\n",
       "      <td>NaN</td>\n",
       "      <td>NaN</td>\n",
       "      <td>NaN</td>\n",
       "      <td>580.221767</td>\n",
       "      <td>6.248627</td>\n",
       "      <td>4.907260</td>\n",
       "      <td>NaN</td>\n",
       "      <td>NaN</td>\n",
       "      <td>NaN</td>\n",
       "      <td>...</td>\n",
       "      <td>NaN</td>\n",
       "      <td>NaN</td>\n",
       "      <td>0.0</td>\n",
       "      <td>3794.767492</td>\n",
       "      <td>4013.558173</td>\n",
       "      <td>4183.203199</td>\n",
       "      <td>4152.038216</td>\n",
       "      <td>4187.236364</td>\n",
       "      <td>NaN</td>\n",
       "      <td>NaN</td>\n",
       "    </tr>\n",
       "    <tr>\n",
       "      <th>min</th>\n",
       "      <td>NaN</td>\n",
       "      <td>NaN</td>\n",
       "      <td>NaN</td>\n",
       "      <td>NaN</td>\n",
       "      <td>0.000000</td>\n",
       "      <td>8.168900</td>\n",
       "      <td>68.644700</td>\n",
       "      <td>NaN</td>\n",
       "      <td>NaN</td>\n",
       "      <td>NaN</td>\n",
       "      <td>...</td>\n",
       "      <td>NaN</td>\n",
       "      <td>NaN</td>\n",
       "      <td>2018.0</td>\n",
       "      <td>0.000000</td>\n",
       "      <td>0.000000</td>\n",
       "      <td>0.000000</td>\n",
       "      <td>0.000000</td>\n",
       "      <td>0.000000</td>\n",
       "      <td>NaN</td>\n",
       "      <td>NaN</td>\n",
       "    </tr>\n",
       "    <tr>\n",
       "      <th>25%</th>\n",
       "      <td>NaN</td>\n",
       "      <td>NaN</td>\n",
       "      <td>NaN</td>\n",
       "      <td>NaN</td>\n",
       "      <td>16.837500</td>\n",
       "      <td>16.771575</td>\n",
       "      <td>74.258975</td>\n",
       "      <td>NaN</td>\n",
       "      <td>NaN</td>\n",
       "      <td>NaN</td>\n",
       "      <td>...</td>\n",
       "      <td>NaN</td>\n",
       "      <td>NaN</td>\n",
       "      <td>2018.0</td>\n",
       "      <td>244.458088</td>\n",
       "      <td>223.650436</td>\n",
       "      <td>174.174750</td>\n",
       "      <td>187.193669</td>\n",
       "      <td>177.643170</td>\n",
       "      <td>NaN</td>\n",
       "      <td>NaN</td>\n",
       "    </tr>\n",
       "    <tr>\n",
       "      <th>50%</th>\n",
       "      <td>NaN</td>\n",
       "      <td>NaN</td>\n",
       "      <td>NaN</td>\n",
       "      <td>NaN</td>\n",
       "      <td>60.000000</td>\n",
       "      <td>21.778300</td>\n",
       "      <td>76.719250</td>\n",
       "      <td>NaN</td>\n",
       "      <td>NaN</td>\n",
       "      <td>NaN</td>\n",
       "      <td>...</td>\n",
       "      <td>NaN</td>\n",
       "      <td>NaN</td>\n",
       "      <td>2018.0</td>\n",
       "      <td>797.063475</td>\n",
       "      <td>805.760000</td>\n",
       "      <td>701.027250</td>\n",
       "      <td>716.728350</td>\n",
       "      <td>807.601700</td>\n",
       "      <td>NaN</td>\n",
       "      <td>NaN</td>\n",
       "    </tr>\n",
       "    <tr>\n",
       "      <th>75%</th>\n",
       "      <td>NaN</td>\n",
       "      <td>NaN</td>\n",
       "      <td>NaN</td>\n",
       "      <td>NaN</td>\n",
       "      <td>388.125000</td>\n",
       "      <td>25.516375</td>\n",
       "      <td>79.441475</td>\n",
       "      <td>NaN</td>\n",
       "      <td>NaN</td>\n",
       "      <td>NaN</td>\n",
       "      <td>...</td>\n",
       "      <td>NaN</td>\n",
       "      <td>NaN</td>\n",
       "      <td>2018.0</td>\n",
       "      <td>2795.021500</td>\n",
       "      <td>3034.575000</td>\n",
       "      <td>3080.000000</td>\n",
       "      <td>3263.483000</td>\n",
       "      <td>3258.785000</td>\n",
       "      <td>NaN</td>\n",
       "      <td>NaN</td>\n",
       "    </tr>\n",
       "    <tr>\n",
       "      <th>max</th>\n",
       "      <td>NaN</td>\n",
       "      <td>NaN</td>\n",
       "      <td>NaN</td>\n",
       "      <td>NaN</td>\n",
       "      <td>4760.000000</td>\n",
       "      <td>34.649000</td>\n",
       "      <td>95.408000</td>\n",
       "      <td>NaN</td>\n",
       "      <td>NaN</td>\n",
       "      <td>NaN</td>\n",
       "      <td>...</td>\n",
       "      <td>NaN</td>\n",
       "      <td>NaN</td>\n",
       "      <td>2018.0</td>\n",
       "      <td>27586.200000</td>\n",
       "      <td>28127.000000</td>\n",
       "      <td>30539.000000</td>\n",
       "      <td>30015.000000</td>\n",
       "      <td>35116.000000</td>\n",
       "      <td>NaN</td>\n",
       "      <td>NaN</td>\n",
       "    </tr>\n",
       "  </tbody>\n",
       "</table>\n",
       "<p>11 rows × 25 columns</p>\n",
       "</div>"
      ],
      "text/plain": [
       "       country country_long      name   gppd_idnr  capacity_mw    latitude  \\\n",
       "count      908          908       908         908   908.000000  862.000000   \n",
       "unique       1            1       908         908          NaN         NaN   \n",
       "top        IND        India  TANAKPUR  WRI1019976          NaN         NaN   \n",
       "freq       908          908         1           1          NaN         NaN   \n",
       "mean       NaN          NaN       NaN         NaN   321.046378   21.196189   \n",
       "std        NaN          NaN       NaN         NaN   580.221767    6.248627   \n",
       "min        NaN          NaN       NaN         NaN     0.000000    8.168900   \n",
       "25%        NaN          NaN       NaN         NaN    16.837500   16.771575   \n",
       "50%        NaN          NaN       NaN         NaN    60.000000   21.778300   \n",
       "75%        NaN          NaN       NaN         NaN   388.125000   25.516375   \n",
       "max        NaN          NaN       NaN         NaN  4760.000000   34.649000   \n",
       "\n",
       "         longitude primary_fuel other_fuel1 other_fuel2  ...  \\\n",
       "count   862.000000          908         199           1  ...   \n",
       "unique         NaN            8           3           1  ...   \n",
       "top            NaN         Coal         Oil         Oil  ...   \n",
       "freq           NaN          259         196           1  ...   \n",
       "mean     77.447848          NaN         NaN         NaN  ...   \n",
       "std       4.907260          NaN         NaN         NaN  ...   \n",
       "min      68.644700          NaN         NaN         NaN  ...   \n",
       "25%      74.258975          NaN         NaN         NaN  ...   \n",
       "50%      76.719250          NaN         NaN         NaN  ...   \n",
       "75%      79.441475          NaN         NaN         NaN  ...   \n",
       "max      95.408000          NaN         NaN         NaN  ...   \n",
       "\n",
       "        geolocation_source  wepp_id year_of_capacity_data generation_gwh_2013  \\\n",
       "count                  889      0.0                 520.0          384.000000   \n",
       "unique                   3      NaN                   NaN                 NaN   \n",
       "top                    WRI      NaN                   NaN                 NaN   \n",
       "freq                   766      NaN                   NaN                 NaN   \n",
       "mean                   NaN      NaN                2018.0         2304.059202   \n",
       "std                    NaN      NaN                   0.0         3794.767492   \n",
       "min                    NaN      NaN                2018.0            0.000000   \n",
       "25%                    NaN      NaN                2018.0          244.458088   \n",
       "50%                    NaN      NaN                2018.0          797.063475   \n",
       "75%                    NaN      NaN                2018.0         2795.021500   \n",
       "max                    NaN      NaN                2018.0        27586.200000   \n",
       "\n",
       "       generation_gwh_2014 generation_gwh_2015  generation_gwh_2016  \\\n",
       "count           401.000000          425.000000           437.000000   \n",
       "unique                 NaN                 NaN                  NaN   \n",
       "top                    NaN                 NaN                  NaN   \n",
       "freq                   NaN                 NaN                  NaN   \n",
       "mean           2420.393316         2414.072373          2453.936292   \n",
       "std            4013.558173         4183.203199          4152.038216   \n",
       "min               0.000000            0.000000             0.000000   \n",
       "25%             223.650436          174.174750           187.193669   \n",
       "50%             805.760000          701.027250           716.728350   \n",
       "75%            3034.575000         3080.000000          3263.483000   \n",
       "max           28127.000000        30539.000000         30015.000000   \n",
       "\n",
       "        generation_gwh_2017         generation_data_source  \\\n",
       "count            443.000000                            450   \n",
       "unique                  NaN                              1   \n",
       "top                     NaN  Central Electricity Authority   \n",
       "freq                    NaN                            450   \n",
       "mean            2531.754458                            NaN   \n",
       "std             4187.236364                            NaN   \n",
       "min                0.000000                            NaN   \n",
       "25%              177.643170                            NaN   \n",
       "50%              807.601700                            NaN   \n",
       "75%             3258.785000                            NaN   \n",
       "max            35116.000000                            NaN   \n",
       "\n",
       "        estimated_generation_gwh  \n",
       "count                        0.0  \n",
       "unique                       NaN  \n",
       "top                          NaN  \n",
       "freq                         NaN  \n",
       "mean                         NaN  \n",
       "std                          NaN  \n",
       "min                          NaN  \n",
       "25%                          NaN  \n",
       "50%                          NaN  \n",
       "75%                          NaN  \n",
       "max                          NaN  \n",
       "\n",
       "[11 rows x 25 columns]"
      ]
     },
     "execution_count": 121,
     "metadata": {},
     "output_type": "execute_result"
    }
   ],
   "source": [
    "df.describe(include='all')"
   ]
  },
  {
   "cell_type": "markdown",
   "metadata": {},
   "source": [
    "### Above statistics data show that their multiple outliers.\n",
    "### There is also difference between mean and 50% value in some of the columns which used to get fix for better prediction.\n",
    "### Also, number of rows in each column are same, means there are no null values in the data set.\n",
    "### Also, the mean and 50%value of most of the column are same and the STD and mean are having the huge difference.¶¶\n",
    "### Most of the column statistics data are near to NaN values that need to be replaced by mean and mode.\n",
    "### By checking the difference between the 75% and max value there are outliers in some of the column, I will check it soon."
   ]
  },
  {
   "cell_type": "markdown",
   "metadata": {},
   "source": [
    "## EDA - Exploratory Data Analysis"
   ]
  },
  {
   "cell_type": "markdown",
   "metadata": {},
   "source": [
    "### I am going to Drop the unwanted columns."
   ]
  },
  {
   "cell_type": "code",
   "execution_count": 122,
   "metadata": {},
   "outputs": [],
   "source": [
    "df.drop('country',inplace=True,axis=1)\n",
    "df.drop('wepp_id',inplace=True,axis=1)\n",
    "df.drop('other_fuel3',inplace=True,axis=1)\n",
    "df.drop('estimated_generation_gwh',inplace=True,axis=1)\n",
    "df.drop('other_fuel2',inplace=True,axis=1)\n",
    "df.drop('gppd_idnr',inplace=True,axis=1)\n",
    "df.drop('country_long',inplace=True,axis=1)\n",
    "df.drop('url',inplace=True,axis=1)"
   ]
  },
  {
   "cell_type": "code",
   "execution_count": 123,
   "metadata": {},
   "outputs": [
    {
     "data": {
      "text/plain": [
       "(908, 17)"
      ]
     },
     "execution_count": 123,
     "metadata": {},
     "output_type": "execute_result"
    }
   ],
   "source": [
    "df.shape"
   ]
  },
  {
   "cell_type": "markdown",
   "metadata": {},
   "source": [
    "### After Removing the unwanted columns I got 908 rows and 17 columns"
   ]
  },
  {
   "cell_type": "markdown",
   "metadata": {},
   "source": [
    "## Count Plot"
   ]
  },
  {
   "cell_type": "markdown",
   "metadata": {},
   "source": [
    "**primary_fuel**"
   ]
  },
  {
   "cell_type": "code",
   "execution_count": 124,
   "metadata": {},
   "outputs": [
    {
     "data": {
      "text/plain": [
       "Coal       259\n",
       "Hydro      250\n",
       "Solar      127\n",
       "Wind       123\n",
       "Gas         69\n",
       "Biomass     50\n",
       "Oil         21\n",
       "Nuclear      9\n",
       "Name: primary_fuel, dtype: int64"
      ]
     },
     "execution_count": 124,
     "metadata": {},
     "output_type": "execute_result"
    }
   ],
   "source": [
    "df['primary_fuel'].value_counts()"
   ]
  },
  {
   "cell_type": "code",
   "execution_count": 125,
   "metadata": {
    "scrolled": true
   },
   "outputs": [
    {
     "data": {
      "image/png": "[encoded data removed]",
      "text/plain": [
       "<Figure size 432x288 with 1 Axes>"
      ]
     },
     "metadata": {
      "needs_background": "light"
     },
     "output_type": "display_data"
    }
   ],
   "source": [
    "sns.countplot(df['primary_fuel'],palette = 'inferno',data=df);"
   ]
  },
  {
   "cell_type": "markdown",
   "metadata": {},
   "source": [
    "### From the above countplot I can say 'primary_fuel' uses Coal(259) capacity more rather than the remaining ones for Global Power Plant."
   ]
  },
  {
   "cell_type": "markdown",
   "metadata": {},
   "source": [
    "**other_fuel1**"
   ]
  },
  {
   "cell_type": "code",
   "execution_count": 126,
   "metadata": {},
   "outputs": [
    {
     "data": {
      "text/plain": [
       "Oil             196\n",
       "Gas               2\n",
       "Cogeneration      1\n",
       "Name: other_fuel1, dtype: int64"
      ]
     },
     "execution_count": 126,
     "metadata": {},
     "output_type": "execute_result"
    }
   ],
   "source": [
    "df['other_fuel1'].value_counts()"
   ]
  },
  {
   "cell_type": "code",
   "execution_count": 127,
   "metadata": {
    "scrolled": true
   },
   "outputs": [
    {
     "data": {
      "image/png": "[encoded data removed]",
      "text/plain": [
       "<Figure size 432x288 with 1 Axes>"
      ]
     },
     "metadata": {
      "needs_background": "light"
     },
     "output_type": "display_data"
    }
   ],
   "source": [
    "sns.countplot(df['other_fuel1'],palette = 'flare',data=df);"
   ]
  },
  {
   "cell_type": "markdown",
   "metadata": {},
   "source": [
    "### According to my countplot of 'other_fuel1' i can see Oil is the main necessity god for Global Power Plant."
   ]
  },
  {
   "cell_type": "markdown",
   "metadata": {},
   "source": [
    "**geolocation_source**"
   ]
  },
  {
   "cell_type": "code",
   "execution_count": 128,
   "metadata": {},
   "outputs": [
    {
     "data": {
      "text/plain": [
       "WRI                                     766\n",
       "Industry About                          119\n",
       "National Renewable Energy Laboratory      4\n",
       "Name: geolocation_source, dtype: int64"
      ]
     },
     "execution_count": 128,
     "metadata": {},
     "output_type": "execute_result"
    }
   ],
   "source": [
    "df['geolocation_source'].value_counts()"
   ]
  },
  {
   "cell_type": "code",
   "execution_count": 129,
   "metadata": {
    "scrolled": true
   },
   "outputs": [
    {
     "data": {
      "image/png": "[encoded data removed]",
      "text/plain": [
       "<Figure size 432x288 with 1 Axes>"
      ]
     },
     "metadata": {
      "needs_background": "light"
     },
     "output_type": "display_data"
    }
   ],
   "source": [
    "sns.countplot(df['geolocation_source'],palette = 'twilight',data=df);"
   ]
  },
  {
   "cell_type": "markdown",
   "metadata": {},
   "source": [
    "### Geolocation_source count plot shows \"WRI\" containg 786 values in this diagram which will have major effect in Global Power Plant."
   ]
  },
  {
   "cell_type": "markdown",
   "metadata": {},
   "source": [
    "**year_of_capacity_data**"
   ]
  },
  {
   "cell_type": "code",
   "execution_count": 130,
   "metadata": {},
   "outputs": [
    {
     "data": {
      "text/plain": [
       "2018.0    520\n",
       "Name: year_of_capacity_data, dtype: int64"
      ]
     },
     "execution_count": 130,
     "metadata": {},
     "output_type": "execute_result"
    }
   ],
   "source": [
    "df['year_of_capacity_data'].value_counts()"
   ]
  },
  {
   "cell_type": "code",
   "execution_count": 131,
   "metadata": {
    "scrolled": true
   },
   "outputs": [
    {
     "data": {
      "image/png": "[encoded data removed]",
      "text/plain": [
       "<Figure size 432x288 with 1 Axes>"
      ]
     },
     "metadata": {
      "needs_background": "light"
     },
     "output_type": "display_data"
    }
   ],
   "source": [
    "sns.countplot(df['year_of_capacity_data'],palette = 'copper',hue='primary_fuel',data=df);"
   ]
  },
  {
   "cell_type": "markdown",
   "metadata": {},
   "source": [
    "### In this Global Power Plant Project it shows that Year-2018 plays a vital role by using coal as major commodity for Generating Electricity.¶"
   ]
  },
  {
   "cell_type": "markdown",
   "metadata": {},
   "source": [
    "**generation_data_source**"
   ]
  },
  {
   "cell_type": "code",
   "execution_count": 132,
   "metadata": {},
   "outputs": [
    {
     "data": {
      "text/plain": [
       "Central Electricity Authority    450\n",
       "Name: generation_data_source, dtype: int64"
      ]
     },
     "execution_count": 132,
     "metadata": {},
     "output_type": "execute_result"
    }
   ],
   "source": [
    "df['generation_data_source'].value_counts()"
   ]
  },
  {
   "cell_type": "code",
   "execution_count": 133,
   "metadata": {
    "scrolled": true
   },
   "outputs": [
    {
     "data": {
      "image/png": "[encoded data removed]",
      "text/plain": [
       "<Figure size 432x288 with 1 Axes>"
      ]
     },
     "metadata": {
      "needs_background": "light"
     },
     "output_type": "display_data"
    }
   ],
   "source": [
    "sns.countplot(df['generation_data_source'],palette = 'flare',hue='primary_fuel',data=df);"
   ]
  },
  {
   "cell_type": "markdown",
   "metadata": {},
   "source": [
    "### Generation_data_source count plot shows \"Central Electricity Authority\" containg 450 values in this diagram which shows Central Electricity Authorityhas a major role in Global Power Plant."
   ]
  },
  {
   "cell_type": "markdown",
   "metadata": {},
   "source": [
    "## Filling the missing values"
   ]
  },
  {
   "cell_type": "code",
   "execution_count": 134,
   "metadata": {},
   "outputs": [],
   "source": [
    "# filling the missing values of continious columns\n",
    "df['latitude'].fillna(df['latitude'].mean(),inplace=True)\n",
    "df['longitude'].fillna(df['longitude'].mean(),inplace=True)\n",
    "df['year_of_capacity_data'].fillna(df['year_of_capacity_data'].mean(),inplace=True)\n",
    "df['generation_gwh_2013'].fillna(df['generation_gwh_2013'].mean(),inplace=True)\n",
    "df['generation_gwh_2014'].fillna(df['generation_gwh_2014'].mean(),inplace=True)\n",
    "df['generation_gwh_2015'].fillna(df['generation_gwh_2015'].mean(),inplace=True)\n",
    "df['generation_gwh_2016'].fillna(df['generation_gwh_2016'].mean(),inplace=True)\n",
    "df['generation_gwh_2017'].fillna(df['generation_gwh_2017'].mean(),inplace=True)\n",
    "\n",
    "# filling the missing values of categorical columns\n",
    "df['commissioning_year'].fillna(df['commissioning_year'].mode()[0],inplace=True)\n",
    "df['other_fuel1'].fillna(df['other_fuel1'].mode()[0],inplace=True)\n",
    "df['generation_data_source'].fillna(df['generation_data_source'].mode()[0],inplace=True)\n",
    "df['owner'].fillna(df['owner'].mode()[0],inplace=True)\n",
    "df['geolocation_source'].fillna(df['geolocation_source'].mode()[0],inplace=True)"
   ]
  },
  {
   "cell_type": "code",
   "execution_count": 135,
   "metadata": {
    "scrolled": true
   },
   "outputs": [
    {
     "data": {
      "text/plain": [
       "name                      0\n",
       "capacity_mw               0\n",
       "latitude                  0\n",
       "longitude                 0\n",
       "primary_fuel              0\n",
       "other_fuel1               0\n",
       "commissioning_year        0\n",
       "owner                     0\n",
       "source                    0\n",
       "geolocation_source        0\n",
       "year_of_capacity_data     0\n",
       "generation_gwh_2013       0\n",
       "generation_gwh_2014       0\n",
       "generation_gwh_2015       0\n",
       "generation_gwh_2016       0\n",
       "generation_gwh_2017       0\n",
       "generation_data_source    0\n",
       "dtype: int64"
      ]
     },
     "execution_count": 135,
     "metadata": {},
     "output_type": "execute_result"
    }
   ],
   "source": [
    "df.isnull().sum()"
   ]
  },
  {
   "cell_type": "code",
   "execution_count": 136,
   "metadata": {},
   "outputs": [
    {
     "data": {
      "text/html": [
       "<div>\n",
       "<style scoped>\n",
       "    .dataframe tbody tr th:only-of-type {\n",
       "        vertical-align: middle;\n",
       "    }\n",
       "\n",
       "    .dataframe tbody tr th {\n",
       "        vertical-align: top;\n",
       "    }\n",
       "\n",
       "    .dataframe thead th {\n",
       "        text-align: right;\n",
       "    }\n",
       "</style>\n",
       "<table border=\"1\" class=\"dataframe\">\n",
       "  <thead>\n",
       "    <tr style=\"text-align: right;\">\n",
       "      <th></th>\n",
       "      <th>name</th>\n",
       "      <th>capacity_mw</th>\n",
       "      <th>latitude</th>\n",
       "      <th>longitude</th>\n",
       "      <th>primary_fuel</th>\n",
       "      <th>other_fuel1</th>\n",
       "      <th>commissioning_year</th>\n",
       "      <th>owner</th>\n",
       "      <th>source</th>\n",
       "      <th>geolocation_source</th>\n",
       "      <th>year_of_capacity_data</th>\n",
       "      <th>generation_gwh_2013</th>\n",
       "      <th>generation_gwh_2014</th>\n",
       "      <th>generation_gwh_2015</th>\n",
       "      <th>generation_gwh_2016</th>\n",
       "      <th>generation_gwh_2017</th>\n",
       "      <th>generation_data_source</th>\n",
       "    </tr>\n",
       "  </thead>\n",
       "  <tbody>\n",
       "    <tr>\n",
       "      <th>0</th>\n",
       "      <td>ACME Solar Tower</td>\n",
       "      <td>2.5</td>\n",
       "      <td>28.1839</td>\n",
       "      <td>73.2407</td>\n",
       "      <td>Solar</td>\n",
       "      <td>Oil</td>\n",
       "      <td>2011.0</td>\n",
       "      <td>Solar Paces</td>\n",
       "      <td>National Renewable Energy Laboratory</td>\n",
       "      <td>National Renewable Energy Laboratory</td>\n",
       "      <td>2018.0</td>\n",
       "      <td>2304.059202</td>\n",
       "      <td>2420.393316</td>\n",
       "      <td>2414.072373</td>\n",
       "      <td>2453.936292</td>\n",
       "      <td>2531.754458</td>\n",
       "      <td>Central Electricity Authority</td>\n",
       "    </tr>\n",
       "    <tr>\n",
       "      <th>1</th>\n",
       "      <td>ADITYA CEMENT WORKS</td>\n",
       "      <td>98.0</td>\n",
       "      <td>24.7663</td>\n",
       "      <td>74.6090</td>\n",
       "      <td>Coal</td>\n",
       "      <td>Oil</td>\n",
       "      <td>2013.0</td>\n",
       "      <td>Ultratech Cement ltd</td>\n",
       "      <td>Ultratech Cement ltd</td>\n",
       "      <td>WRI</td>\n",
       "      <td>2018.0</td>\n",
       "      <td>2304.059202</td>\n",
       "      <td>2420.393316</td>\n",
       "      <td>2414.072373</td>\n",
       "      <td>2453.936292</td>\n",
       "      <td>2531.754458</td>\n",
       "      <td>Central Electricity Authority</td>\n",
       "    </tr>\n",
       "    <tr>\n",
       "      <th>2</th>\n",
       "      <td>AES Saurashtra Windfarms</td>\n",
       "      <td>39.2</td>\n",
       "      <td>21.9038</td>\n",
       "      <td>69.3732</td>\n",
       "      <td>Wind</td>\n",
       "      <td>Oil</td>\n",
       "      <td>2013.0</td>\n",
       "      <td>AES</td>\n",
       "      <td>CDM</td>\n",
       "      <td>WRI</td>\n",
       "      <td>2018.0</td>\n",
       "      <td>2304.059202</td>\n",
       "      <td>2420.393316</td>\n",
       "      <td>2414.072373</td>\n",
       "      <td>2453.936292</td>\n",
       "      <td>2531.754458</td>\n",
       "      <td>Central Electricity Authority</td>\n",
       "    </tr>\n",
       "    <tr>\n",
       "      <th>3</th>\n",
       "      <td>AGARTALA GT</td>\n",
       "      <td>135.0</td>\n",
       "      <td>23.8712</td>\n",
       "      <td>91.3602</td>\n",
       "      <td>Gas</td>\n",
       "      <td>Oil</td>\n",
       "      <td>2004.0</td>\n",
       "      <td>Acc Acc ltd</td>\n",
       "      <td>Central Electricity Authority</td>\n",
       "      <td>WRI</td>\n",
       "      <td>2018.0</td>\n",
       "      <td>631.777928</td>\n",
       "      <td>617.789264</td>\n",
       "      <td>843.747000</td>\n",
       "      <td>886.004428</td>\n",
       "      <td>663.774500</td>\n",
       "      <td>Central Electricity Authority</td>\n",
       "    </tr>\n",
       "    <tr>\n",
       "      <th>4</th>\n",
       "      <td>AKALTARA TPP</td>\n",
       "      <td>1800.0</td>\n",
       "      <td>21.9603</td>\n",
       "      <td>82.4091</td>\n",
       "      <td>Coal</td>\n",
       "      <td>Oil</td>\n",
       "      <td>2015.0</td>\n",
       "      <td>Acc Acc ltd</td>\n",
       "      <td>Central Electricity Authority</td>\n",
       "      <td>WRI</td>\n",
       "      <td>2018.0</td>\n",
       "      <td>1668.290000</td>\n",
       "      <td>3035.550000</td>\n",
       "      <td>5916.370000</td>\n",
       "      <td>6243.000000</td>\n",
       "      <td>5385.579736</td>\n",
       "      <td>Central Electricity Authority</td>\n",
       "    </tr>\n",
       "  </tbody>\n",
       "</table>\n",
       "</div>"
      ],
      "text/plain": [
       "                       name  capacity_mw  latitude  longitude primary_fuel  \\\n",
       "0          ACME Solar Tower          2.5   28.1839    73.2407        Solar   \n",
       "1       ADITYA CEMENT WORKS         98.0   24.7663    74.6090         Coal   \n",
       "2  AES Saurashtra Windfarms         39.2   21.9038    69.3732         Wind   \n",
       "3               AGARTALA GT        135.0   23.8712    91.3602          Gas   \n",
       "4              AKALTARA TPP       1800.0   21.9603    82.4091         Coal   \n",
       "\n",
       "  other_fuel1  commissioning_year                 owner  \\\n",
       "0         Oil              2011.0           Solar Paces   \n",
       "1         Oil              2013.0  Ultratech Cement ltd   \n",
       "2         Oil              2013.0                   AES   \n",
       "3         Oil              2004.0           Acc Acc ltd   \n",
       "4         Oil              2015.0           Acc Acc ltd   \n",
       "\n",
       "                                 source                    geolocation_source  \\\n",
       "0  National Renewable Energy Laboratory  National Renewable Energy Laboratory   \n",
       "1                  Ultratech Cement ltd                                   WRI   \n",
       "2                                   CDM                                   WRI   \n",
       "3         Central Electricity Authority                                   WRI   \n",
       "4         Central Electricity Authority                                   WRI   \n",
       "\n",
       "   year_of_capacity_data  generation_gwh_2013  generation_gwh_2014  \\\n",
       "0                 2018.0          2304.059202          2420.393316   \n",
       "1                 2018.0          2304.059202          2420.393316   \n",
       "2                 2018.0          2304.059202          2420.393316   \n",
       "3                 2018.0           631.777928           617.789264   \n",
       "4                 2018.0          1668.290000          3035.550000   \n",
       "\n",
       "   generation_gwh_2015  generation_gwh_2016  generation_gwh_2017  \\\n",
       "0          2414.072373          2453.936292          2531.754458   \n",
       "1          2414.072373          2453.936292          2531.754458   \n",
       "2          2414.072373          2453.936292          2531.754458   \n",
       "3           843.747000           886.004428           663.774500   \n",
       "4          5916.370000          6243.000000          5385.579736   \n",
       "\n",
       "          generation_data_source  \n",
       "0  Central Electricity Authority  \n",
       "1  Central Electricity Authority  \n",
       "2  Central Electricity Authority  \n",
       "3  Central Electricity Authority  \n",
       "4  Central Electricity Authority  "
      ]
     },
     "execution_count": 136,
     "metadata": {},
     "output_type": "execute_result"
    }
   ],
   "source": [
    "df.head()"
   ]
  },
  {
   "cell_type": "markdown",
   "metadata": {},
   "source": [
    "### From the dataset i have removed all the missing values('NaN')."
   ]
  },
  {
   "cell_type": "markdown",
   "metadata": {},
   "source": [
    "## Label Encoding"
   ]
  },
  {
   "cell_type": "code",
   "execution_count": 137,
   "metadata": {},
   "outputs": [],
   "source": [
    "le = LabelEncoder()\n",
    "df.primary_fuel = le.fit_transform(df.primary_fuel)\n",
    "df.other_fuel1 = le.fit_transform(df.other_fuel1)\n",
    "df.geolocation_source = le.fit_transform(df.geolocation_source)\n",
    "df.generation_data_source = le.fit_transform(df.generation_data_source)\n",
    "df.name = le.fit_transform(df.name)\n",
    "df.source = le.fit_transform(df.source)\n",
    "df.owner = le.fit_transform(df.owner)"
   ]
  },
  {
   "cell_type": "code",
   "execution_count": 138,
   "metadata": {
    "scrolled": true
   },
   "outputs": [
    {
     "data": {
      "text/html": [
       "<div>\n",
       "<style scoped>\n",
       "    .dataframe tbody tr th:only-of-type {\n",
       "        vertical-align: middle;\n",
       "    }\n",
       "\n",
       "    .dataframe tbody tr th {\n",
       "        vertical-align: top;\n",
       "    }\n",
       "\n",
       "    .dataframe thead th {\n",
       "        text-align: right;\n",
       "    }\n",
       "</style>\n",
       "<table border=\"1\" class=\"dataframe\">\n",
       "  <thead>\n",
       "    <tr style=\"text-align: right;\">\n",
       "      <th></th>\n",
       "      <th>name</th>\n",
       "      <th>capacity_mw</th>\n",
       "      <th>latitude</th>\n",
       "      <th>longitude</th>\n",
       "      <th>primary_fuel</th>\n",
       "      <th>other_fuel1</th>\n",
       "      <th>commissioning_year</th>\n",
       "      <th>owner</th>\n",
       "      <th>source</th>\n",
       "      <th>geolocation_source</th>\n",
       "      <th>year_of_capacity_data</th>\n",
       "      <th>generation_gwh_2013</th>\n",
       "      <th>generation_gwh_2014</th>\n",
       "      <th>generation_gwh_2015</th>\n",
       "      <th>generation_gwh_2016</th>\n",
       "      <th>generation_gwh_2017</th>\n",
       "      <th>generation_data_source</th>\n",
       "    </tr>\n",
       "  </thead>\n",
       "  <tbody>\n",
       "    <tr>\n",
       "      <th>0</th>\n",
       "      <td>0</td>\n",
       "      <td>2.5</td>\n",
       "      <td>28.1839</td>\n",
       "      <td>73.2407</td>\n",
       "      <td>6</td>\n",
       "      <td>2</td>\n",
       "      <td>2011.0</td>\n",
       "      <td>229</td>\n",
       "      <td>109</td>\n",
       "      <td>1</td>\n",
       "      <td>2018.0</td>\n",
       "      <td>2304.059202</td>\n",
       "      <td>2420.393316</td>\n",
       "      <td>2414.072373</td>\n",
       "      <td>2453.936292</td>\n",
       "      <td>2531.754458</td>\n",
       "      <td>0</td>\n",
       "    </tr>\n",
       "    <tr>\n",
       "      <th>1</th>\n",
       "      <td>1</td>\n",
       "      <td>98.0</td>\n",
       "      <td>24.7663</td>\n",
       "      <td>74.6090</td>\n",
       "      <td>1</td>\n",
       "      <td>2</td>\n",
       "      <td>2013.0</td>\n",
       "      <td>258</td>\n",
       "      <td>174</td>\n",
       "      <td>2</td>\n",
       "      <td>2018.0</td>\n",
       "      <td>2304.059202</td>\n",
       "      <td>2420.393316</td>\n",
       "      <td>2414.072373</td>\n",
       "      <td>2453.936292</td>\n",
       "      <td>2531.754458</td>\n",
       "      <td>0</td>\n",
       "    </tr>\n",
       "    <tr>\n",
       "      <th>2</th>\n",
       "      <td>2</td>\n",
       "      <td>39.2</td>\n",
       "      <td>21.9038</td>\n",
       "      <td>69.3732</td>\n",
       "      <td>7</td>\n",
       "      <td>2</td>\n",
       "      <td>2013.0</td>\n",
       "      <td>2</td>\n",
       "      <td>21</td>\n",
       "      <td>2</td>\n",
       "      <td>2018.0</td>\n",
       "      <td>2304.059202</td>\n",
       "      <td>2420.393316</td>\n",
       "      <td>2414.072373</td>\n",
       "      <td>2453.936292</td>\n",
       "      <td>2531.754458</td>\n",
       "      <td>0</td>\n",
       "    </tr>\n",
       "    <tr>\n",
       "      <th>3</th>\n",
       "      <td>3</td>\n",
       "      <td>135.0</td>\n",
       "      <td>23.8712</td>\n",
       "      <td>91.3602</td>\n",
       "      <td>2</td>\n",
       "      <td>2</td>\n",
       "      <td>2004.0</td>\n",
       "      <td>5</td>\n",
       "      <td>22</td>\n",
       "      <td>2</td>\n",
       "      <td>2018.0</td>\n",
       "      <td>631.777928</td>\n",
       "      <td>617.789264</td>\n",
       "      <td>843.747000</td>\n",
       "      <td>886.004428</td>\n",
       "      <td>663.774500</td>\n",
       "      <td>0</td>\n",
       "    </tr>\n",
       "    <tr>\n",
       "      <th>4</th>\n",
       "      <td>4</td>\n",
       "      <td>1800.0</td>\n",
       "      <td>21.9603</td>\n",
       "      <td>82.4091</td>\n",
       "      <td>1</td>\n",
       "      <td>2</td>\n",
       "      <td>2015.0</td>\n",
       "      <td>5</td>\n",
       "      <td>22</td>\n",
       "      <td>2</td>\n",
       "      <td>2018.0</td>\n",
       "      <td>1668.290000</td>\n",
       "      <td>3035.550000</td>\n",
       "      <td>5916.370000</td>\n",
       "      <td>6243.000000</td>\n",
       "      <td>5385.579736</td>\n",
       "      <td>0</td>\n",
       "    </tr>\n",
       "  </tbody>\n",
       "</table>\n",
       "</div>"
      ],
      "text/plain": [
       "   name  capacity_mw  latitude  longitude  primary_fuel  other_fuel1  \\\n",
       "0     0          2.5   28.1839    73.2407             6            2   \n",
       "1     1         98.0   24.7663    74.6090             1            2   \n",
       "2     2         39.2   21.9038    69.3732             7            2   \n",
       "3     3        135.0   23.8712    91.3602             2            2   \n",
       "4     4       1800.0   21.9603    82.4091             1            2   \n",
       "\n",
       "   commissioning_year  owner  source  geolocation_source  \\\n",
       "0              2011.0    229     109                   1   \n",
       "1              2013.0    258     174                   2   \n",
       "2              2013.0      2      21                   2   \n",
       "3              2004.0      5      22                   2   \n",
       "4              2015.0      5      22                   2   \n",
       "\n",
       "   year_of_capacity_data  generation_gwh_2013  generation_gwh_2014  \\\n",
       "0                 2018.0          2304.059202          2420.393316   \n",
       "1                 2018.0          2304.059202          2420.393316   \n",
       "2                 2018.0          2304.059202          2420.393316   \n",
       "3                 2018.0           631.777928           617.789264   \n",
       "4                 2018.0          1668.290000          3035.550000   \n",
       "\n",
       "   generation_gwh_2015  generation_gwh_2016  generation_gwh_2017  \\\n",
       "0          2414.072373          2453.936292          2531.754458   \n",
       "1          2414.072373          2453.936292          2531.754458   \n",
       "2          2414.072373          2453.936292          2531.754458   \n",
       "3           843.747000           886.004428           663.774500   \n",
       "4          5916.370000          6243.000000          5385.579736   \n",
       "\n",
       "   generation_data_source  \n",
       "0                       0  \n",
       "1                       0  \n",
       "2                       0  \n",
       "3                       0  \n",
       "4                       0  "
      ]
     },
     "execution_count": 138,
     "metadata": {},
     "output_type": "execute_result"
    }
   ],
   "source": [
    "df.head()"
   ]
  },
  {
   "cell_type": "code",
   "execution_count": 139,
   "metadata": {
    "scrolled": true
   },
   "outputs": [
    {
     "data": {
      "text/html": [
       "<div>\n",
       "<style scoped>\n",
       "    .dataframe tbody tr th:only-of-type {\n",
       "        vertical-align: middle;\n",
       "    }\n",
       "\n",
       "    .dataframe tbody tr th {\n",
       "        vertical-align: top;\n",
       "    }\n",
       "\n",
       "    .dataframe thead th {\n",
       "        text-align: right;\n",
       "    }\n",
       "</style>\n",
       "<table border=\"1\" class=\"dataframe\">\n",
       "  <thead>\n",
       "    <tr style=\"text-align: right;\">\n",
       "      <th></th>\n",
       "      <th>name</th>\n",
       "      <th>capacity_mw</th>\n",
       "      <th>latitude</th>\n",
       "      <th>longitude</th>\n",
       "      <th>primary_fuel</th>\n",
       "      <th>other_fuel1</th>\n",
       "      <th>commissioning_year</th>\n",
       "      <th>owner</th>\n",
       "      <th>source</th>\n",
       "      <th>geolocation_source</th>\n",
       "      <th>year_of_capacity_data</th>\n",
       "      <th>generation_gwh_2013</th>\n",
       "      <th>generation_gwh_2014</th>\n",
       "      <th>generation_gwh_2015</th>\n",
       "      <th>generation_gwh_2016</th>\n",
       "      <th>generation_gwh_2017</th>\n",
       "      <th>generation_data_source</th>\n",
       "    </tr>\n",
       "  </thead>\n",
       "  <tbody>\n",
       "    <tr>\n",
       "      <th>count</th>\n",
       "      <td>908.00000</td>\n",
       "      <td>908.000000</td>\n",
       "      <td>908.000000</td>\n",
       "      <td>908.000000</td>\n",
       "      <td>908.000000</td>\n",
       "      <td>908.000000</td>\n",
       "      <td>908.000000</td>\n",
       "      <td>908.000000</td>\n",
       "      <td>908.000000</td>\n",
       "      <td>908.000000</td>\n",
       "      <td>908.0</td>\n",
       "      <td>908.000000</td>\n",
       "      <td>908.000000</td>\n",
       "      <td>908.000000</td>\n",
       "      <td>908.000000</td>\n",
       "      <td>908.000000</td>\n",
       "      <td>908.0</td>\n",
       "    </tr>\n",
       "    <tr>\n",
       "      <th>mean</th>\n",
       "      <td>453.50000</td>\n",
       "      <td>321.046378</td>\n",
       "      <td>21.196189</td>\n",
       "      <td>77.447848</td>\n",
       "      <td>3.205947</td>\n",
       "      <td>1.995595</td>\n",
       "      <td>2003.624449</td>\n",
       "      <td>56.113436</td>\n",
       "      <td>43.823789</td>\n",
       "      <td>1.733480</td>\n",
       "      <td>2018.0</td>\n",
       "      <td>2304.059202</td>\n",
       "      <td>2420.393316</td>\n",
       "      <td>2414.072373</td>\n",
       "      <td>2453.936292</td>\n",
       "      <td>2531.754458</td>\n",
       "      <td>0.0</td>\n",
       "    </tr>\n",
       "    <tr>\n",
       "      <th>std</th>\n",
       "      <td>262.26132</td>\n",
       "      <td>580.221767</td>\n",
       "      <td>6.088110</td>\n",
       "      <td>4.781201</td>\n",
       "      <td>2.281339</td>\n",
       "      <td>0.081214</td>\n",
       "      <td>15.238021</td>\n",
       "      <td>82.501086</td>\n",
       "      <td>44.624092</td>\n",
       "      <td>0.676835</td>\n",
       "      <td>0.0</td>\n",
       "      <td>2465.930970</td>\n",
       "      <td>2665.360236</td>\n",
       "      <td>2860.146282</td>\n",
       "      <td>2878.730064</td>\n",
       "      <td>2923.041411</td>\n",
       "      <td>0.0</td>\n",
       "    </tr>\n",
       "    <tr>\n",
       "      <th>min</th>\n",
       "      <td>0.00000</td>\n",
       "      <td>0.000000</td>\n",
       "      <td>8.168900</td>\n",
       "      <td>68.644700</td>\n",
       "      <td>0.000000</td>\n",
       "      <td>0.000000</td>\n",
       "      <td>1927.000000</td>\n",
       "      <td>0.000000</td>\n",
       "      <td>0.000000</td>\n",
       "      <td>0.000000</td>\n",
       "      <td>2018.0</td>\n",
       "      <td>0.000000</td>\n",
       "      <td>0.000000</td>\n",
       "      <td>0.000000</td>\n",
       "      <td>0.000000</td>\n",
       "      <td>0.000000</td>\n",
       "      <td>0.0</td>\n",
       "    </tr>\n",
       "    <tr>\n",
       "      <th>25%</th>\n",
       "      <td>226.75000</td>\n",
       "      <td>16.837500</td>\n",
       "      <td>17.057825</td>\n",
       "      <td>74.390250</td>\n",
       "      <td>1.000000</td>\n",
       "      <td>2.000000</td>\n",
       "      <td>1997.000000</td>\n",
       "      <td>5.000000</td>\n",
       "      <td>22.000000</td>\n",
       "      <td>2.000000</td>\n",
       "      <td>2018.0</td>\n",
       "      <td>1332.538825</td>\n",
       "      <td>1175.264825</td>\n",
       "      <td>874.205000</td>\n",
       "      <td>826.629750</td>\n",
       "      <td>852.438887</td>\n",
       "      <td>0.0</td>\n",
       "    </tr>\n",
       "    <tr>\n",
       "      <th>50%</th>\n",
       "      <td>453.50000</td>\n",
       "      <td>60.000000</td>\n",
       "      <td>21.278850</td>\n",
       "      <td>76.978950</td>\n",
       "      <td>3.000000</td>\n",
       "      <td>2.000000</td>\n",
       "      <td>2013.000000</td>\n",
       "      <td>5.000000</td>\n",
       "      <td>22.000000</td>\n",
       "      <td>2.000000</td>\n",
       "      <td>2018.0</td>\n",
       "      <td>2304.059202</td>\n",
       "      <td>2420.393316</td>\n",
       "      <td>2414.072373</td>\n",
       "      <td>2453.936292</td>\n",
       "      <td>2531.754458</td>\n",
       "      <td>0.0</td>\n",
       "    </tr>\n",
       "    <tr>\n",
       "      <th>75%</th>\n",
       "      <td>680.25000</td>\n",
       "      <td>388.125000</td>\n",
       "      <td>25.183775</td>\n",
       "      <td>79.211600</td>\n",
       "      <td>6.000000</td>\n",
       "      <td>2.000000</td>\n",
       "      <td>2013.000000</td>\n",
       "      <td>95.250000</td>\n",
       "      <td>29.250000</td>\n",
       "      <td>2.000000</td>\n",
       "      <td>2018.0</td>\n",
       "      <td>2304.059202</td>\n",
       "      <td>2420.393316</td>\n",
       "      <td>2414.072373</td>\n",
       "      <td>2453.936292</td>\n",
       "      <td>2531.754458</td>\n",
       "      <td>0.0</td>\n",
       "    </tr>\n",
       "    <tr>\n",
       "      <th>max</th>\n",
       "      <td>907.00000</td>\n",
       "      <td>4760.000000</td>\n",
       "      <td>34.649000</td>\n",
       "      <td>95.408000</td>\n",
       "      <td>7.000000</td>\n",
       "      <td>2.000000</td>\n",
       "      <td>2018.000000</td>\n",
       "      <td>279.000000</td>\n",
       "      <td>190.000000</td>\n",
       "      <td>2.000000</td>\n",
       "      <td>2018.0</td>\n",
       "      <td>27586.200000</td>\n",
       "      <td>28127.000000</td>\n",
       "      <td>30539.000000</td>\n",
       "      <td>30015.000000</td>\n",
       "      <td>35116.000000</td>\n",
       "      <td>0.0</td>\n",
       "    </tr>\n",
       "  </tbody>\n",
       "</table>\n",
       "</div>"
      ],
      "text/plain": [
       "            name  capacity_mw    latitude   longitude  primary_fuel  \\\n",
       "count  908.00000   908.000000  908.000000  908.000000    908.000000   \n",
       "mean   453.50000   321.046378   21.196189   77.447848      3.205947   \n",
       "std    262.26132   580.221767    6.088110    4.781201      2.281339   \n",
       "min      0.00000     0.000000    8.168900   68.644700      0.000000   \n",
       "25%    226.75000    16.837500   17.057825   74.390250      1.000000   \n",
       "50%    453.50000    60.000000   21.278850   76.978950      3.000000   \n",
       "75%    680.25000   388.125000   25.183775   79.211600      6.000000   \n",
       "max    907.00000  4760.000000   34.649000   95.408000      7.000000   \n",
       "\n",
       "       other_fuel1  commissioning_year       owner      source  \\\n",
       "count   908.000000          908.000000  908.000000  908.000000   \n",
       "mean      1.995595         2003.624449   56.113436   43.823789   \n",
       "std       0.081214           15.238021   82.501086   44.624092   \n",
       "min       0.000000         1927.000000    0.000000    0.000000   \n",
       "25%       2.000000         1997.000000    5.000000   22.000000   \n",
       "50%       2.000000         2013.000000    5.000000   22.000000   \n",
       "75%       2.000000         2013.000000   95.250000   29.250000   \n",
       "max       2.000000         2018.000000  279.000000  190.000000   \n",
       "\n",
       "       geolocation_source  year_of_capacity_data  generation_gwh_2013  \\\n",
       "count          908.000000                  908.0           908.000000   \n",
       "mean             1.733480                 2018.0          2304.059202   \n",
       "std              0.676835                    0.0          2465.930970   \n",
       "min              0.000000                 2018.0             0.000000   \n",
       "25%              2.000000                 2018.0          1332.538825   \n",
       "50%              2.000000                 2018.0          2304.059202   \n",
       "75%              2.000000                 2018.0          2304.059202   \n",
       "max              2.000000                 2018.0         27586.200000   \n",
       "\n",
       "       generation_gwh_2014  generation_gwh_2015  generation_gwh_2016  \\\n",
       "count           908.000000           908.000000           908.000000   \n",
       "mean           2420.393316          2414.072373          2453.936292   \n",
       "std            2665.360236          2860.146282          2878.730064   \n",
       "min               0.000000             0.000000             0.000000   \n",
       "25%            1175.264825           874.205000           826.629750   \n",
       "50%            2420.393316          2414.072373          2453.936292   \n",
       "75%            2420.393316          2414.072373          2453.936292   \n",
       "max           28127.000000         30539.000000         30015.000000   \n",
       "\n",
       "       generation_gwh_2017  generation_data_source  \n",
       "count           908.000000                   908.0  \n",
       "mean           2531.754458                     0.0  \n",
       "std            2923.041411                     0.0  \n",
       "min               0.000000                     0.0  \n",
       "25%             852.438887                     0.0  \n",
       "50%            2531.754458                     0.0  \n",
       "75%            2531.754458                     0.0  \n",
       "max           35116.000000                     0.0  "
      ]
     },
     "execution_count": 139,
     "metadata": {},
     "output_type": "execute_result"
    }
   ],
   "source": [
    "df.describe()"
   ]
  },
  {
   "cell_type": "markdown",
   "metadata": {},
   "source": [
    "### After Applying Label Encoder i have converted all the strings columns into integer.\n",
    "### From the describe code i can say that there are few zero values in this dataset which i will replace soon.\n",
    "### Now I can see that there are few outliers in the dataset which I will rectify with zscore."
   ]
  },
  {
   "cell_type": "markdown",
   "metadata": {},
   "source": [
    "## Replacing all the zero values from different columns"
   ]
  },
  {
   "cell_type": "code",
   "execution_count": 140,
   "metadata": {
    "scrolled": true
   },
   "outputs": [],
   "source": [
    "# Replacing continous columns with mean\n",
    "df['capacity_mw'] = df['capacity_mw'].replace(0,df['capacity_mw'].mean())\n",
    "df['generation_gwh_2013'] = df['generation_gwh_2013'].replace(0,df['generation_gwh_2013'].mean())\n",
    "df['generation_gwh_2014'] = df['generation_gwh_2014'].replace(0,df['generation_gwh_2014'].mean())\n",
    "df['generation_gwh_2015'] = df['generation_gwh_2015'].replace(0,df['generation_gwh_2015'].mean())\n",
    "df['generation_gwh_2016'] = df['generation_gwh_2016'].replace(0,df['generation_gwh_2016'].mean())\n",
    "df['generation_gwh_2017'] = df['generation_gwh_2017'].replace(0,df['generation_gwh_2017'].mean())\n",
    "df['name'] = df['name'].replace(0,df['name'].mean())"
   ]
  },
  {
   "cell_type": "code",
   "execution_count": 141,
   "metadata": {},
   "outputs": [],
   "source": [
    "# Replacing categorial columns with mode\n",
    "df['owner']=df['owner'].replace(0,df['owner'].mode()[0])\n",
    "df['source']=df['source'].replace(0,df['source'].mode()[0])\n",
    "df['primary_fuel']=df['primary_fuel'].replace(0,df['primary_fuel'].mode()[0])\n",
    "df['other_fuel1']=df['other_fuel1'].replace(0,df['other_fuel1'].mode()[0])\n",
    "df['geolocation_source']=df['geolocation_source'].replace(0,df['geolocation_source'].mode()[0])\n",
    "df['generation_data_source']=df['generation_data_source'].replace(0,df['generation_data_source'].mode()[0])"
   ]
  },
  {
   "cell_type": "markdown",
   "metadata": {},
   "source": [
    "### According to the Dataset these 13 columns (capacity_mw,generation_gwh_2013,generation_gwh_2014,generation_gwh_2015,generation_gwh_2016,generation_gwh_2017,name,owner,source,primary_fuel,other_fuel1,geolocation_source,generation_data_source) have zero values which i have replace it."
   ]
  },
  {
   "cell_type": "code",
   "execution_count": 142,
   "metadata": {
    "scrolled": false
   },
   "outputs": [
    {
     "data": {
      "text/html": [
       "<div>\n",
       "<style scoped>\n",
       "    .dataframe tbody tr th:only-of-type {\n",
       "        vertical-align: middle;\n",
       "    }\n",
       "\n",
       "    .dataframe tbody tr th {\n",
       "        vertical-align: top;\n",
       "    }\n",
       "\n",
       "    .dataframe thead th {\n",
       "        text-align: right;\n",
       "    }\n",
       "</style>\n",
       "<table border=\"1\" class=\"dataframe\">\n",
       "  <thead>\n",
       "    <tr style=\"text-align: right;\">\n",
       "      <th></th>\n",
       "      <th>name</th>\n",
       "      <th>capacity_mw</th>\n",
       "      <th>latitude</th>\n",
       "      <th>longitude</th>\n",
       "      <th>primary_fuel</th>\n",
       "      <th>other_fuel1</th>\n",
       "      <th>commissioning_year</th>\n",
       "      <th>owner</th>\n",
       "      <th>source</th>\n",
       "      <th>geolocation_source</th>\n",
       "      <th>year_of_capacity_data</th>\n",
       "      <th>generation_gwh_2013</th>\n",
       "      <th>generation_gwh_2014</th>\n",
       "      <th>generation_gwh_2015</th>\n",
       "      <th>generation_gwh_2016</th>\n",
       "      <th>generation_gwh_2017</th>\n",
       "      <th>generation_data_source</th>\n",
       "    </tr>\n",
       "  </thead>\n",
       "  <tbody>\n",
       "    <tr>\n",
       "      <th>count</th>\n",
       "      <td>908.000000</td>\n",
       "      <td>908.000000</td>\n",
       "      <td>908.000000</td>\n",
       "      <td>908.000000</td>\n",
       "      <td>908.000000</td>\n",
       "      <td>908.000000</td>\n",
       "      <td>908.000000</td>\n",
       "      <td>908.000000</td>\n",
       "      <td>908.000000</td>\n",
       "      <td>908.000000</td>\n",
       "      <td>908.0</td>\n",
       "      <td>908.000000</td>\n",
       "      <td>908.000000</td>\n",
       "      <td>908.000000</td>\n",
       "      <td>908.000000</td>\n",
       "      <td>908.000000</td>\n",
       "      <td>908.0</td>\n",
       "    </tr>\n",
       "    <tr>\n",
       "      <th>mean</th>\n",
       "      <td>453.999449</td>\n",
       "      <td>321.399953</td>\n",
       "      <td>21.196189</td>\n",
       "      <td>77.447848</td>\n",
       "      <td>3.261013</td>\n",
       "      <td>1.997797</td>\n",
       "      <td>2003.624449</td>\n",
       "      <td>56.118943</td>\n",
       "      <td>43.848018</td>\n",
       "      <td>1.995595</td>\n",
       "      <td>2018.0</td>\n",
       "      <td>2357.346915</td>\n",
       "      <td>2495.030996</td>\n",
       "      <td>2488.515134</td>\n",
       "      <td>2537.716055</td>\n",
       "      <td>2623.767560</td>\n",
       "      <td>0.0</td>\n",
       "    </tr>\n",
       "    <tr>\n",
       "      <th>std</th>\n",
       "      <td>261.828188</td>\n",
       "      <td>580.123724</td>\n",
       "      <td>6.088110</td>\n",
       "      <td>4.781201</td>\n",
       "      <td>2.214301</td>\n",
       "      <td>0.046906</td>\n",
       "      <td>15.238021</td>\n",
       "      <td>82.497504</td>\n",
       "      <td>44.606240</td>\n",
       "      <td>0.066262</td>\n",
       "      <td>0.0</td>\n",
       "      <td>2440.299044</td>\n",
       "      <td>2630.155232</td>\n",
       "      <td>2827.539668</td>\n",
       "      <td>2841.521269</td>\n",
       "      <td>2881.403117</td>\n",
       "      <td>0.0</td>\n",
       "    </tr>\n",
       "    <tr>\n",
       "      <th>min</th>\n",
       "      <td>1.000000</td>\n",
       "      <td>1.000000</td>\n",
       "      <td>8.168900</td>\n",
       "      <td>68.644700</td>\n",
       "      <td>1.000000</td>\n",
       "      <td>1.000000</td>\n",
       "      <td>1927.000000</td>\n",
       "      <td>1.000000</td>\n",
       "      <td>1.000000</td>\n",
       "      <td>1.000000</td>\n",
       "      <td>2018.0</td>\n",
       "      <td>0.019900</td>\n",
       "      <td>0.045355</td>\n",
       "      <td>0.118300</td>\n",
       "      <td>0.099500</td>\n",
       "      <td>0.425769</td>\n",
       "      <td>0.0</td>\n",
       "    </tr>\n",
       "    <tr>\n",
       "      <th>25%</th>\n",
       "      <td>227.750000</td>\n",
       "      <td>16.987500</td>\n",
       "      <td>17.057825</td>\n",
       "      <td>74.390250</td>\n",
       "      <td>1.000000</td>\n",
       "      <td>2.000000</td>\n",
       "      <td>1997.000000</td>\n",
       "      <td>5.000000</td>\n",
       "      <td>22.000000</td>\n",
       "      <td>2.000000</td>\n",
       "      <td>2018.0</td>\n",
       "      <td>1663.834050</td>\n",
       "      <td>1610.740250</td>\n",
       "      <td>1291.945312</td>\n",
       "      <td>1338.095175</td>\n",
       "      <td>1429.468075</td>\n",
       "      <td>0.0</td>\n",
       "    </tr>\n",
       "    <tr>\n",
       "      <th>50%</th>\n",
       "      <td>453.750000</td>\n",
       "      <td>60.000000</td>\n",
       "      <td>21.278850</td>\n",
       "      <td>76.978950</td>\n",
       "      <td>3.000000</td>\n",
       "      <td>2.000000</td>\n",
       "      <td>2013.000000</td>\n",
       "      <td>5.000000</td>\n",
       "      <td>22.000000</td>\n",
       "      <td>2.000000</td>\n",
       "      <td>2018.0</td>\n",
       "      <td>2304.059202</td>\n",
       "      <td>2420.393316</td>\n",
       "      <td>2414.072373</td>\n",
       "      <td>2453.936292</td>\n",
       "      <td>2531.754458</td>\n",
       "      <td>0.0</td>\n",
       "    </tr>\n",
       "    <tr>\n",
       "      <th>75%</th>\n",
       "      <td>680.250000</td>\n",
       "      <td>388.125000</td>\n",
       "      <td>25.183775</td>\n",
       "      <td>79.211600</td>\n",
       "      <td>6.000000</td>\n",
       "      <td>2.000000</td>\n",
       "      <td>2013.000000</td>\n",
       "      <td>95.250000</td>\n",
       "      <td>29.250000</td>\n",
       "      <td>2.000000</td>\n",
       "      <td>2018.0</td>\n",
       "      <td>2304.059202</td>\n",
       "      <td>2420.393316</td>\n",
       "      <td>2414.072373</td>\n",
       "      <td>2453.936292</td>\n",
       "      <td>2531.754458</td>\n",
       "      <td>0.0</td>\n",
       "    </tr>\n",
       "    <tr>\n",
       "      <th>max</th>\n",
       "      <td>907.000000</td>\n",
       "      <td>4760.000000</td>\n",
       "      <td>34.649000</td>\n",
       "      <td>95.408000</td>\n",
       "      <td>7.000000</td>\n",
       "      <td>2.000000</td>\n",
       "      <td>2018.000000</td>\n",
       "      <td>279.000000</td>\n",
       "      <td>190.000000</td>\n",
       "      <td>2.000000</td>\n",
       "      <td>2018.0</td>\n",
       "      <td>27586.200000</td>\n",
       "      <td>28127.000000</td>\n",
       "      <td>30539.000000</td>\n",
       "      <td>30015.000000</td>\n",
       "      <td>35116.000000</td>\n",
       "      <td>0.0</td>\n",
       "    </tr>\n",
       "  </tbody>\n",
       "</table>\n",
       "</div>"
      ],
      "text/plain": [
       "             name  capacity_mw    latitude   longitude  primary_fuel  \\\n",
       "count  908.000000   908.000000  908.000000  908.000000    908.000000   \n",
       "mean   453.999449   321.399953   21.196189   77.447848      3.261013   \n",
       "std    261.828188   580.123724    6.088110    4.781201      2.214301   \n",
       "min      1.000000     1.000000    8.168900   68.644700      1.000000   \n",
       "25%    227.750000    16.987500   17.057825   74.390250      1.000000   \n",
       "50%    453.750000    60.000000   21.278850   76.978950      3.000000   \n",
       "75%    680.250000   388.125000   25.183775   79.211600      6.000000   \n",
       "max    907.000000  4760.000000   34.649000   95.408000      7.000000   \n",
       "\n",
       "       other_fuel1  commissioning_year       owner      source  \\\n",
       "count   908.000000          908.000000  908.000000  908.000000   \n",
       "mean      1.997797         2003.624449   56.118943   43.848018   \n",
       "std       0.046906           15.238021   82.497504   44.606240   \n",
       "min       1.000000         1927.000000    1.000000    1.000000   \n",
       "25%       2.000000         1997.000000    5.000000   22.000000   \n",
       "50%       2.000000         2013.000000    5.000000   22.000000   \n",
       "75%       2.000000         2013.000000   95.250000   29.250000   \n",
       "max       2.000000         2018.000000  279.000000  190.000000   \n",
       "\n",
       "       geolocation_source  year_of_capacity_data  generation_gwh_2013  \\\n",
       "count          908.000000                  908.0           908.000000   \n",
       "mean             1.995595                 2018.0          2357.346915   \n",
       "std              0.066262                    0.0          2440.299044   \n",
       "min              1.000000                 2018.0             0.019900   \n",
       "25%              2.000000                 2018.0          1663.834050   \n",
       "50%              2.000000                 2018.0          2304.059202   \n",
       "75%              2.000000                 2018.0          2304.059202   \n",
       "max              2.000000                 2018.0         27586.200000   \n",
       "\n",
       "       generation_gwh_2014  generation_gwh_2015  generation_gwh_2016  \\\n",
       "count           908.000000           908.000000           908.000000   \n",
       "mean           2495.030996          2488.515134          2537.716055   \n",
       "std            2630.155232          2827.539668          2841.521269   \n",
       "min               0.045355             0.118300             0.099500   \n",
       "25%            1610.740250          1291.945312          1338.095175   \n",
       "50%            2420.393316          2414.072373          2453.936292   \n",
       "75%            2420.393316          2414.072373          2453.936292   \n",
       "max           28127.000000         30539.000000         30015.000000   \n",
       "\n",
       "       generation_gwh_2017  generation_data_source  \n",
       "count           908.000000                   908.0  \n",
       "mean           2623.767560                     0.0  \n",
       "std            2881.403117                     0.0  \n",
       "min               0.425769                     0.0  \n",
       "25%            1429.468075                     0.0  \n",
       "50%            2531.754458                     0.0  \n",
       "75%            2531.754458                     0.0  \n",
       "max           35116.000000                     0.0  "
      ]
     },
     "execution_count": 142,
     "metadata": {},
     "output_type": "execute_result"
    }
   ],
   "source": [
    "df.describe(include='all')"
   ]
  },
  {
   "cell_type": "markdown",
   "metadata": {},
   "source": [
    "### I have removed all the zero values from the dataset differnet colums. Further i will work on skewness."
   ]
  },
  {
   "cell_type": "markdown",
   "metadata": {},
   "source": [
    "## Histogram Plot"
   ]
  },
  {
   "cell_type": "code",
   "execution_count": 143,
   "metadata": {
    "scrolled": true
   },
   "outputs": [
    {
     "data": {
      "text/plain": [
       "array([[<AxesSubplot:title={'center':'name'}>,\n",
       "        <AxesSubplot:title={'center':'capacity_mw'}>,\n",
       "        <AxesSubplot:title={'center':'latitude'}>,\n",
       "        <AxesSubplot:title={'center':'longitude'}>],\n",
       "       [<AxesSubplot:title={'center':'primary_fuel'}>,\n",
       "        <AxesSubplot:title={'center':'other_fuel1'}>,\n",
       "        <AxesSubplot:title={'center':'commissioning_year'}>,\n",
       "        <AxesSubplot:title={'center':'owner'}>],\n",
       "       [<AxesSubplot:title={'center':'source'}>,\n",
       "        <AxesSubplot:title={'center':'geolocation_source'}>,\n",
       "        <AxesSubplot:title={'center':'year_of_capacity_data'}>,\n",
       "        <AxesSubplot:title={'center':'generation_gwh_2013'}>],\n",
       "       [<AxesSubplot:title={'center':'generation_gwh_2014'}>,\n",
       "        <AxesSubplot:title={'center':'generation_gwh_2015'}>,\n",
       "        <AxesSubplot:title={'center':'generation_gwh_2016'}>,\n",
       "        <AxesSubplot:title={'center':'generation_gwh_2017'}>],\n",
       "       [<AxesSubplot:title={'center':'generation_data_source'}>,\n",
       "        <AxesSubplot:>, <AxesSubplot:>, <AxesSubplot:>]], dtype=object)"
      ]
     },
     "execution_count": 143,
     "metadata": {},
     "output_type": "execute_result"
    },
    {
     "data": {
      "image/png": "[encoded data removed]",
      "text/plain": [
       "<Figure size 1440x1440 with 20 Axes>"
      ]
     },
     "metadata": {
      "needs_background": "light"
     },
     "output_type": "display_data"
    }
   ],
   "source": [
    "# ploting histogram to check the skewness\n",
    "\n",
    "df.hist(figsize=(20,20),grid=True,layout=(5,4),bins=30)"
   ]
  },
  {
   "cell_type": "markdown",
   "metadata": {},
   "source": [
    "## Box Plot"
   ]
  },
  {
   "cell_type": "code",
   "execution_count": 144,
   "metadata": {},
   "outputs": [
    {
     "data": {
      "text/plain": [
       "name                         AxesSubplot(0.125,0.749828;0.168478x0.130172)\n",
       "capacity_mw               AxesSubplot(0.327174,0.749828;0.168478x0.130172)\n",
       "latitude                  AxesSubplot(0.529348,0.749828;0.168478x0.130172)\n",
       "longitude                 AxesSubplot(0.731522,0.749828;0.168478x0.130172)\n",
       "primary_fuel                 AxesSubplot(0.125,0.593621;0.168478x0.130172)\n",
       "other_fuel1               AxesSubplot(0.327174,0.593621;0.168478x0.130172)\n",
       "commissioning_year        AxesSubplot(0.529348,0.593621;0.168478x0.130172)\n",
       "owner                     AxesSubplot(0.731522,0.593621;0.168478x0.130172)\n",
       "source                       AxesSubplot(0.125,0.437414;0.168478x0.130172)\n",
       "geolocation_source        AxesSubplot(0.327174,0.437414;0.168478x0.130172)\n",
       "year_of_capacity_data     AxesSubplot(0.529348,0.437414;0.168478x0.130172)\n",
       "generation_gwh_2013       AxesSubplot(0.731522,0.437414;0.168478x0.130172)\n",
       "generation_gwh_2014          AxesSubplot(0.125,0.281207;0.168478x0.130172)\n",
       "generation_gwh_2015       AxesSubplot(0.327174,0.281207;0.168478x0.130172)\n",
       "generation_gwh_2016       AxesSubplot(0.529348,0.281207;0.168478x0.130172)\n",
       "generation_gwh_2017       AxesSubplot(0.731522,0.281207;0.168478x0.130172)\n",
       "generation_data_source          AxesSubplot(0.125,0.125;0.168478x0.130172)\n",
       "dtype: object"
      ]
     },
     "execution_count": 144,
     "metadata": {},
     "output_type": "execute_result"
    },
    {
     "data": {
      "image/png": "[encoded data removed]",
      "text/plain": [
       "<Figure size 1440x1440 with 20 Axes>"
      ]
     },
     "metadata": {
      "needs_background": "light"
     },
     "output_type": "display_data"
    }
   ],
   "source": [
    "df.plot(kind='box',subplots=True,layout=(5,4),figsize=(20,20))"
   ]
  },
  {
   "cell_type": "markdown",
   "metadata": {},
   "source": [
    "## Z score"
   ]
  },
  {
   "cell_type": "code",
   "execution_count": 145,
   "metadata": {},
   "outputs": [
    {
     "data": {
      "text/html": [
       "<div>\n",
       "<style scoped>\n",
       "    .dataframe tbody tr th:only-of-type {\n",
       "        vertical-align: middle;\n",
       "    }\n",
       "\n",
       "    .dataframe tbody tr th {\n",
       "        vertical-align: top;\n",
       "    }\n",
       "\n",
       "    .dataframe thead th {\n",
       "        text-align: right;\n",
       "    }\n",
       "</style>\n",
       "<table border=\"1\" class=\"dataframe\">\n",
       "  <thead>\n",
       "    <tr style=\"text-align: right;\">\n",
       "      <th></th>\n",
       "      <th>name</th>\n",
       "      <th>capacity_mw</th>\n",
       "      <th>latitude</th>\n",
       "      <th>longitude</th>\n",
       "      <th>primary_fuel</th>\n",
       "      <th>other_fuel1</th>\n",
       "      <th>commissioning_year</th>\n",
       "      <th>owner</th>\n",
       "      <th>source</th>\n",
       "      <th>geolocation_source</th>\n",
       "      <th>year_of_capacity_data</th>\n",
       "      <th>generation_gwh_2013</th>\n",
       "      <th>generation_gwh_2014</th>\n",
       "      <th>generation_gwh_2015</th>\n",
       "      <th>generation_gwh_2016</th>\n",
       "      <th>generation_gwh_2017</th>\n",
       "      <th>generation_data_source</th>\n",
       "    </tr>\n",
       "  </thead>\n",
       "  <tbody>\n",
       "    <tr>\n",
       "      <th>count</th>\n",
       "      <td>867.000000</td>\n",
       "      <td>867.000000</td>\n",
       "      <td>867.000000</td>\n",
       "      <td>867.000000</td>\n",
       "      <td>867.000000</td>\n",
       "      <td>867.000000</td>\n",
       "      <td>867.00000</td>\n",
       "      <td>867.000000</td>\n",
       "      <td>867.000000</td>\n",
       "      <td>867.000000</td>\n",
       "      <td>867.0</td>\n",
       "      <td>867.000000</td>\n",
       "      <td>867.000000</td>\n",
       "      <td>867.000000</td>\n",
       "      <td>867.000000</td>\n",
       "      <td>867.000000</td>\n",
       "      <td>867.0</td>\n",
       "    </tr>\n",
       "    <tr>\n",
       "      <th>mean</th>\n",
       "      <td>452.302768</td>\n",
       "      <td>263.231266</td>\n",
       "      <td>21.093784</td>\n",
       "      <td>77.025306</td>\n",
       "      <td>3.325260</td>\n",
       "      <td>1.997693</td>\n",
       "      <td>2003.82699</td>\n",
       "      <td>58.359862</td>\n",
       "      <td>44.779700</td>\n",
       "      <td>1.995386</td>\n",
       "      <td>2018.0</td>\n",
       "      <td>2117.758023</td>\n",
       "      <td>2219.681312</td>\n",
       "      <td>2186.854870</td>\n",
       "      <td>2234.025144</td>\n",
       "      <td>2315.400173</td>\n",
       "      <td>0.0</td>\n",
       "    </tr>\n",
       "    <tr>\n",
       "      <th>std</th>\n",
       "      <td>263.222150</td>\n",
       "      <td>416.346783</td>\n",
       "      <td>6.157370</td>\n",
       "      <td>4.200192</td>\n",
       "      <td>2.232522</td>\n",
       "      <td>0.048001</td>\n",
       "      <td>15.30755</td>\n",
       "      <td>83.608262</td>\n",
       "      <td>45.342562</td>\n",
       "      <td>0.067806</td>\n",
       "      <td>0.0</td>\n",
       "      <td>1336.035117</td>\n",
       "      <td>1414.520126</td>\n",
       "      <td>1463.166814</td>\n",
       "      <td>1516.631629</td>\n",
       "      <td>1557.873000</td>\n",
       "      <td>0.0</td>\n",
       "    </tr>\n",
       "    <tr>\n",
       "      <th>min</th>\n",
       "      <td>1.000000</td>\n",
       "      <td>1.000000</td>\n",
       "      <td>8.168900</td>\n",
       "      <td>68.644700</td>\n",
       "      <td>1.000000</td>\n",
       "      <td>1.000000</td>\n",
       "      <td>1927.00000</td>\n",
       "      <td>1.000000</td>\n",
       "      <td>1.000000</td>\n",
       "      <td>1.000000</td>\n",
       "      <td>2018.0</td>\n",
       "      <td>0.019900</td>\n",
       "      <td>0.045355</td>\n",
       "      <td>0.118300</td>\n",
       "      <td>0.099500</td>\n",
       "      <td>0.425769</td>\n",
       "      <td>0.0</td>\n",
       "    </tr>\n",
       "    <tr>\n",
       "      <th>25%</th>\n",
       "      <td>223.500000</td>\n",
       "      <td>16.500000</td>\n",
       "      <td>16.899050</td>\n",
       "      <td>74.318150</td>\n",
       "      <td>1.000000</td>\n",
       "      <td>2.000000</td>\n",
       "      <td>1998.00000</td>\n",
       "      <td>5.000000</td>\n",
       "      <td>22.000000</td>\n",
       "      <td>2.000000</td>\n",
       "      <td>2018.0</td>\n",
       "      <td>1682.736000</td>\n",
       "      <td>1627.942650</td>\n",
       "      <td>1331.777650</td>\n",
       "      <td>1365.502290</td>\n",
       "      <td>1477.737225</td>\n",
       "      <td>0.0</td>\n",
       "    </tr>\n",
       "    <tr>\n",
       "      <th>50%</th>\n",
       "      <td>453.000000</td>\n",
       "      <td>50.400000</td>\n",
       "      <td>21.196189</td>\n",
       "      <td>76.737000</td>\n",
       "      <td>3.000000</td>\n",
       "      <td>2.000000</td>\n",
       "      <td>2013.00000</td>\n",
       "      <td>5.000000</td>\n",
       "      <td>22.000000</td>\n",
       "      <td>2.000000</td>\n",
       "      <td>2018.0</td>\n",
       "      <td>2304.059202</td>\n",
       "      <td>2420.393316</td>\n",
       "      <td>2414.072373</td>\n",
       "      <td>2453.936292</td>\n",
       "      <td>2531.754458</td>\n",
       "      <td>0.0</td>\n",
       "    </tr>\n",
       "    <tr>\n",
       "      <th>75%</th>\n",
       "      <td>679.500000</td>\n",
       "      <td>320.523189</td>\n",
       "      <td>25.134100</td>\n",
       "      <td>78.906250</td>\n",
       "      <td>6.000000</td>\n",
       "      <td>2.000000</td>\n",
       "      <td>2013.00000</td>\n",
       "      <td>104.500000</td>\n",
       "      <td>38.500000</td>\n",
       "      <td>2.000000</td>\n",
       "      <td>2018.0</td>\n",
       "      <td>2304.059202</td>\n",
       "      <td>2420.393316</td>\n",
       "      <td>2414.072373</td>\n",
       "      <td>2453.936292</td>\n",
       "      <td>2531.754458</td>\n",
       "      <td>0.0</td>\n",
       "    </tr>\n",
       "    <tr>\n",
       "      <th>max</th>\n",
       "      <td>907.000000</td>\n",
       "      <td>2000.000000</td>\n",
       "      <td>34.649000</td>\n",
       "      <td>91.565000</td>\n",
       "      <td>7.000000</td>\n",
       "      <td>2.000000</td>\n",
       "      <td>2018.00000</td>\n",
       "      <td>279.000000</td>\n",
       "      <td>190.000000</td>\n",
       "      <td>2.000000</td>\n",
       "      <td>2018.0</td>\n",
       "      <td>8965.595000</td>\n",
       "      <td>9983.018000</td>\n",
       "      <td>10422.690000</td>\n",
       "      <td>10503.882000</td>\n",
       "      <td>9833.690000</td>\n",
       "      <td>0.0</td>\n",
       "    </tr>\n",
       "  </tbody>\n",
       "</table>\n",
       "</div>"
      ],
      "text/plain": [
       "             name  capacity_mw    latitude   longitude  primary_fuel  \\\n",
       "count  867.000000   867.000000  867.000000  867.000000    867.000000   \n",
       "mean   452.302768   263.231266   21.093784   77.025306      3.325260   \n",
       "std    263.222150   416.346783    6.157370    4.200192      2.232522   \n",
       "min      1.000000     1.000000    8.168900   68.644700      1.000000   \n",
       "25%    223.500000    16.500000   16.899050   74.318150      1.000000   \n",
       "50%    453.000000    50.400000   21.196189   76.737000      3.000000   \n",
       "75%    679.500000   320.523189   25.134100   78.906250      6.000000   \n",
       "max    907.000000  2000.000000   34.649000   91.565000      7.000000   \n",
       "\n",
       "       other_fuel1  commissioning_year       owner      source  \\\n",
       "count   867.000000           867.00000  867.000000  867.000000   \n",
       "mean      1.997693          2003.82699   58.359862   44.779700   \n",
       "std       0.048001            15.30755   83.608262   45.342562   \n",
       "min       1.000000          1927.00000    1.000000    1.000000   \n",
       "25%       2.000000          1998.00000    5.000000   22.000000   \n",
       "50%       2.000000          2013.00000    5.000000   22.000000   \n",
       "75%       2.000000          2013.00000  104.500000   38.500000   \n",
       "max       2.000000          2018.00000  279.000000  190.000000   \n",
       "\n",
       "       geolocation_source  year_of_capacity_data  generation_gwh_2013  \\\n",
       "count          867.000000                  867.0           867.000000   \n",
       "mean             1.995386                 2018.0          2117.758023   \n",
       "std              0.067806                    0.0          1336.035117   \n",
       "min              1.000000                 2018.0             0.019900   \n",
       "25%              2.000000                 2018.0          1682.736000   \n",
       "50%              2.000000                 2018.0          2304.059202   \n",
       "75%              2.000000                 2018.0          2304.059202   \n",
       "max              2.000000                 2018.0          8965.595000   \n",
       "\n",
       "       generation_gwh_2014  generation_gwh_2015  generation_gwh_2016  \\\n",
       "count           867.000000           867.000000           867.000000   \n",
       "mean           2219.681312          2186.854870          2234.025144   \n",
       "std            1414.520126          1463.166814          1516.631629   \n",
       "min               0.045355             0.118300             0.099500   \n",
       "25%            1627.942650          1331.777650          1365.502290   \n",
       "50%            2420.393316          2414.072373          2453.936292   \n",
       "75%            2420.393316          2414.072373          2453.936292   \n",
       "max            9983.018000         10422.690000         10503.882000   \n",
       "\n",
       "       generation_gwh_2017  generation_data_source  \n",
       "count           867.000000                   867.0  \n",
       "mean           2315.400173                     0.0  \n",
       "std            1557.873000                     0.0  \n",
       "min               0.425769                     0.0  \n",
       "25%            1477.737225                     0.0  \n",
       "50%            2531.754458                     0.0  \n",
       "75%            2531.754458                     0.0  \n",
       "max            9833.690000                     0.0  "
      ]
     },
     "execution_count": 145,
     "metadata": {},
     "output_type": "execute_result"
    }
   ],
   "source": [
    "z_score = zscore(df[['capacity_mw','longitude','generation_gwh_2013','generation_gwh_2014','generation_gwh_2015','generation_gwh_2016','generation_gwh_2017']])\n",
    "abs_z_score = np.abs(z_score)\n",
    "\n",
    "filtering_entry = (abs_z_score < 3).all(axis = 1)\n",
    "df = df[filtering_entry]\n",
    "df.describe()"
   ]
  },
  {
   "cell_type": "code",
   "execution_count": 146,
   "metadata": {},
   "outputs": [
    {
     "data": {
      "text/html": [
       "<div>\n",
       "<style scoped>\n",
       "    .dataframe tbody tr th:only-of-type {\n",
       "        vertical-align: middle;\n",
       "    }\n",
       "\n",
       "    .dataframe tbody tr th {\n",
       "        vertical-align: top;\n",
       "    }\n",
       "\n",
       "    .dataframe thead th {\n",
       "        text-align: right;\n",
       "    }\n",
       "</style>\n",
       "<table border=\"1\" class=\"dataframe\">\n",
       "  <thead>\n",
       "    <tr style=\"text-align: right;\">\n",
       "      <th></th>\n",
       "      <th>name</th>\n",
       "      <th>capacity_mw</th>\n",
       "      <th>latitude</th>\n",
       "      <th>longitude</th>\n",
       "      <th>primary_fuel</th>\n",
       "      <th>other_fuel1</th>\n",
       "      <th>commissioning_year</th>\n",
       "      <th>owner</th>\n",
       "      <th>source</th>\n",
       "      <th>geolocation_source</th>\n",
       "      <th>year_of_capacity_data</th>\n",
       "      <th>generation_gwh_2013</th>\n",
       "      <th>generation_gwh_2014</th>\n",
       "      <th>generation_gwh_2015</th>\n",
       "      <th>generation_gwh_2016</th>\n",
       "      <th>generation_gwh_2017</th>\n",
       "      <th>generation_data_source</th>\n",
       "    </tr>\n",
       "  </thead>\n",
       "  <tbody>\n",
       "    <tr>\n",
       "      <th>0</th>\n",
       "      <td>453.5</td>\n",
       "      <td>2.5</td>\n",
       "      <td>28.1839</td>\n",
       "      <td>73.2407</td>\n",
       "      <td>6</td>\n",
       "      <td>2</td>\n",
       "      <td>2011.0</td>\n",
       "      <td>229</td>\n",
       "      <td>109</td>\n",
       "      <td>1</td>\n",
       "      <td>2018.0</td>\n",
       "      <td>2304.059202</td>\n",
       "      <td>2420.393316</td>\n",
       "      <td>2414.072373</td>\n",
       "      <td>2453.936292</td>\n",
       "      <td>2531.754458</td>\n",
       "      <td>0</td>\n",
       "    </tr>\n",
       "    <tr>\n",
       "      <th>1</th>\n",
       "      <td>1.0</td>\n",
       "      <td>98.0</td>\n",
       "      <td>24.7663</td>\n",
       "      <td>74.6090</td>\n",
       "      <td>1</td>\n",
       "      <td>2</td>\n",
       "      <td>2013.0</td>\n",
       "      <td>258</td>\n",
       "      <td>174</td>\n",
       "      <td>2</td>\n",
       "      <td>2018.0</td>\n",
       "      <td>2304.059202</td>\n",
       "      <td>2420.393316</td>\n",
       "      <td>2414.072373</td>\n",
       "      <td>2453.936292</td>\n",
       "      <td>2531.754458</td>\n",
       "      <td>0</td>\n",
       "    </tr>\n",
       "    <tr>\n",
       "      <th>2</th>\n",
       "      <td>2.0</td>\n",
       "      <td>39.2</td>\n",
       "      <td>21.9038</td>\n",
       "      <td>69.3732</td>\n",
       "      <td>7</td>\n",
       "      <td>2</td>\n",
       "      <td>2013.0</td>\n",
       "      <td>2</td>\n",
       "      <td>21</td>\n",
       "      <td>2</td>\n",
       "      <td>2018.0</td>\n",
       "      <td>2304.059202</td>\n",
       "      <td>2420.393316</td>\n",
       "      <td>2414.072373</td>\n",
       "      <td>2453.936292</td>\n",
       "      <td>2531.754458</td>\n",
       "      <td>0</td>\n",
       "    </tr>\n",
       "    <tr>\n",
       "      <th>3</th>\n",
       "      <td>3.0</td>\n",
       "      <td>135.0</td>\n",
       "      <td>23.8712</td>\n",
       "      <td>91.3602</td>\n",
       "      <td>2</td>\n",
       "      <td>2</td>\n",
       "      <td>2004.0</td>\n",
       "      <td>5</td>\n",
       "      <td>22</td>\n",
       "      <td>2</td>\n",
       "      <td>2018.0</td>\n",
       "      <td>631.777928</td>\n",
       "      <td>617.789264</td>\n",
       "      <td>843.747000</td>\n",
       "      <td>886.004428</td>\n",
       "      <td>663.774500</td>\n",
       "      <td>0</td>\n",
       "    </tr>\n",
       "    <tr>\n",
       "      <th>4</th>\n",
       "      <td>4.0</td>\n",
       "      <td>1800.0</td>\n",
       "      <td>21.9603</td>\n",
       "      <td>82.4091</td>\n",
       "      <td>1</td>\n",
       "      <td>2</td>\n",
       "      <td>2015.0</td>\n",
       "      <td>5</td>\n",
       "      <td>22</td>\n",
       "      <td>2</td>\n",
       "      <td>2018.0</td>\n",
       "      <td>1668.290000</td>\n",
       "      <td>3035.550000</td>\n",
       "      <td>5916.370000</td>\n",
       "      <td>6243.000000</td>\n",
       "      <td>5385.579736</td>\n",
       "      <td>0</td>\n",
       "    </tr>\n",
       "  </tbody>\n",
       "</table>\n",
       "</div>"
      ],
      "text/plain": [
       "    name  capacity_mw  latitude  longitude  primary_fuel  other_fuel1  \\\n",
       "0  453.5          2.5   28.1839    73.2407             6            2   \n",
       "1    1.0         98.0   24.7663    74.6090             1            2   \n",
       "2    2.0         39.2   21.9038    69.3732             7            2   \n",
       "3    3.0        135.0   23.8712    91.3602             2            2   \n",
       "4    4.0       1800.0   21.9603    82.4091             1            2   \n",
       "\n",
       "   commissioning_year  owner  source  geolocation_source  \\\n",
       "0              2011.0    229     109                   1   \n",
       "1              2013.0    258     174                   2   \n",
       "2              2013.0      2      21                   2   \n",
       "3              2004.0      5      22                   2   \n",
       "4              2015.0      5      22                   2   \n",
       "\n",
       "   year_of_capacity_data  generation_gwh_2013  generation_gwh_2014  \\\n",
       "0                 2018.0          2304.059202          2420.393316   \n",
       "1                 2018.0          2304.059202          2420.393316   \n",
       "2                 2018.0          2304.059202          2420.393316   \n",
       "3                 2018.0           631.777928           617.789264   \n",
       "4                 2018.0          1668.290000          3035.550000   \n",
       "\n",
       "   generation_gwh_2015  generation_gwh_2016  generation_gwh_2017  \\\n",
       "0          2414.072373          2453.936292          2531.754458   \n",
       "1          2414.072373          2453.936292          2531.754458   \n",
       "2          2414.072373          2453.936292          2531.754458   \n",
       "3           843.747000           886.004428           663.774500   \n",
       "4          5916.370000          6243.000000          5385.579736   \n",
       "\n",
       "   generation_data_source  \n",
       "0                       0  \n",
       "1                       0  \n",
       "2                       0  \n",
       "3                       0  \n",
       "4                       0  "
      ]
     },
     "execution_count": 146,
     "metadata": {},
     "output_type": "execute_result"
    }
   ],
   "source": [
    "df.head()"
   ]
  },
  {
   "cell_type": "code",
   "execution_count": 147,
   "metadata": {},
   "outputs": [
    {
     "data": {
      "text/plain": [
       "(867, 17)"
      ]
     },
     "execution_count": 147,
     "metadata": {},
     "output_type": "execute_result"
    }
   ],
   "source": [
    "df.shape"
   ]
  },
  {
   "cell_type": "markdown",
   "metadata": {},
   "source": [
    "### From above image we can clear see that there are number of black dots in most of the column which are referring to the outliers, so it means most of the data are outside the distribution.****\n",
    "### So now we detect the outliers now the second step is to remove the outliers, there are different way to remove the outliers i have used z score above to remove outliers."
   ]
  },
  {
   "cell_type": "code",
   "execution_count": 148,
   "metadata": {
    "scrolled": true
   },
   "outputs": [
    {
     "data": {
      "text/plain": [
       "array([[<AxesSubplot:title={'center':'name'}>,\n",
       "        <AxesSubplot:title={'center':'capacity_mw'}>,\n",
       "        <AxesSubplot:title={'center':'latitude'}>,\n",
       "        <AxesSubplot:title={'center':'longitude'}>],\n",
       "       [<AxesSubplot:title={'center':'primary_fuel'}>,\n",
       "        <AxesSubplot:title={'center':'other_fuel1'}>,\n",
       "        <AxesSubplot:title={'center':'commissioning_year'}>,\n",
       "        <AxesSubplot:title={'center':'owner'}>],\n",
       "       [<AxesSubplot:title={'center':'source'}>,\n",
       "        <AxesSubplot:title={'center':'geolocation_source'}>,\n",
       "        <AxesSubplot:title={'center':'year_of_capacity_data'}>,\n",
       "        <AxesSubplot:title={'center':'generation_gwh_2013'}>],\n",
       "       [<AxesSubplot:title={'center':'generation_gwh_2014'}>,\n",
       "        <AxesSubplot:title={'center':'generation_gwh_2015'}>,\n",
       "        <AxesSubplot:title={'center':'generation_gwh_2016'}>,\n",
       "        <AxesSubplot:title={'center':'generation_gwh_2017'}>],\n",
       "       [<AxesSubplot:title={'center':'generation_data_source'}>,\n",
       "        <AxesSubplot:>, <AxesSubplot:>, <AxesSubplot:>]], dtype=object)"
      ]
     },
     "execution_count": 148,
     "metadata": {},
     "output_type": "execute_result"
    },
    {
     "data": {
      "image/png": "[encoded data removed]",
      "text/plain": [
       "<Figure size 1440x1440 with 20 Axes>"
      ]
     },
     "metadata": {
      "needs_background": "light"
     },
     "output_type": "display_data"
    }
   ],
   "source": [
    "# ploting histogram to check the skewness\n",
    "\n",
    "df.hist(figsize=(20,20),grid=True,layout=(5,4),bins=30)"
   ]
  },
  {
   "cell_type": "markdown",
   "metadata": {},
   "source": [
    "### After Removing Outliers & Skewness I make Histogram Plot to understand how much my data is ready for Model Prediction."
   ]
  },
  {
   "cell_type": "markdown",
   "metadata": {},
   "source": [
    "## Classification Model"
   ]
  },
  {
   "cell_type": "markdown",
   "metadata": {},
   "source": [
    "### Using Primary Fuel as a prediction"
   ]
  },
  {
   "cell_type": "code",
   "execution_count": 36,
   "metadata": {},
   "outputs": [],
   "source": [
    "# dividing features and label\n",
    "\n",
    "x = df.drop('primary_fuel',axis=1)\n",
    "y = df.primary_fuel"
   ]
  },
  {
   "cell_type": "markdown",
   "metadata": {},
   "source": [
    "### Separate response variable and features in x & y."
   ]
  },
  {
   "cell_type": "markdown",
   "metadata": {},
   "source": [
    "## StandardScaler"
   ]
  },
  {
   "cell_type": "markdown",
   "metadata": {},
   "source": [
    "### The scikit library provides various types of scalers including MinMax Scaler and the StandardScaler.\n",
    "### Below I will use the StandardScaler to scale the data."
   ]
  },
  {
   "cell_type": "code",
   "execution_count": 37,
   "metadata": {},
   "outputs": [
    {
     "data": {
      "text/plain": [
       "array([[ 0.004551  , -0.62659728,  1.15214913, ...,  0.1450834 ,\n",
       "         0.13895816,  0.        ],\n",
       "       [-1.71552151, -0.39708878,  0.5967866 , ...,  0.1450834 ,\n",
       "         0.13895816,  0.        ],\n",
       "       [-1.71172024, -0.53839872,  0.13162823, ...,  0.1450834 ,\n",
       "         0.13895816,  0.        ],\n",
       "       ...,\n",
       "       [ 1.72082223, -0.57132298, -0.94542669, ...,  0.1450834 ,\n",
       "         0.13895816,  0.        ],\n",
       "       [ 1.7246235 , -0.44034693,  0.52913754, ...,  0.1450834 ,\n",
       "         0.13895816,  0.        ],\n",
       "       [ 1.72842477, -0.59295205, -1.81340815, ...,  0.1450834 ,\n",
       "         0.13895816,  0.        ]])"
      ]
     },
     "execution_count": 37,
     "metadata": {},
     "output_type": "execute_result"
    }
   ],
   "source": [
    "# standard scaler\n",
    "\n",
    "scaler = StandardScaler()\n",
    "x_scaled = scaler.fit_transform(x)\n",
    "x_scaled"
   ]
  },
  {
   "cell_type": "markdown",
   "metadata": {},
   "source": [
    "### By Using Standard Scaler I have scaled the data in scaled one"
   ]
  },
  {
   "cell_type": "markdown",
   "metadata": {},
   "source": [
    "## VIF - variance inflation factor"
   ]
  },
  {
   "cell_type": "code",
   "execution_count": 38,
   "metadata": {},
   "outputs": [
    {
     "data": {
      "text/html": [
       "<div>\n",
       "<style scoped>\n",
       "    .dataframe tbody tr th:only-of-type {\n",
       "        vertical-align: middle;\n",
       "    }\n",
       "\n",
       "    .dataframe tbody tr th {\n",
       "        vertical-align: top;\n",
       "    }\n",
       "\n",
       "    .dataframe thead th {\n",
       "        text-align: right;\n",
       "    }\n",
       "</style>\n",
       "<table border=\"1\" class=\"dataframe\">\n",
       "  <thead>\n",
       "    <tr style=\"text-align: right;\">\n",
       "      <th></th>\n",
       "      <th>vif</th>\n",
       "      <th>Features</th>\n",
       "    </tr>\n",
       "  </thead>\n",
       "  <tbody>\n",
       "    <tr>\n",
       "      <th>0</th>\n",
       "      <td>1.074737</td>\n",
       "      <td>name</td>\n",
       "    </tr>\n",
       "    <tr>\n",
       "      <th>1</th>\n",
       "      <td>2.040582</td>\n",
       "      <td>capacity_mw</td>\n",
       "    </tr>\n",
       "    <tr>\n",
       "      <th>2</th>\n",
       "      <td>1.064051</td>\n",
       "      <td>latitude</td>\n",
       "    </tr>\n",
       "    <tr>\n",
       "      <th>3</th>\n",
       "      <td>1.166226</td>\n",
       "      <td>longitude</td>\n",
       "    </tr>\n",
       "    <tr>\n",
       "      <th>4</th>\n",
       "      <td>1.024478</td>\n",
       "      <td>other_fuel1</td>\n",
       "    </tr>\n",
       "    <tr>\n",
       "      <th>5</th>\n",
       "      <td>1.305293</td>\n",
       "      <td>commissioning_year</td>\n",
       "    </tr>\n",
       "    <tr>\n",
       "      <th>6</th>\n",
       "      <td>3.127762</td>\n",
       "      <td>owner</td>\n",
       "    </tr>\n",
       "    <tr>\n",
       "      <th>7</th>\n",
       "      <td>2.542739</td>\n",
       "      <td>source</td>\n",
       "    </tr>\n",
       "    <tr>\n",
       "      <th>8</th>\n",
       "      <td>1.018545</td>\n",
       "      <td>geolocation_source</td>\n",
       "    </tr>\n",
       "    <tr>\n",
       "      <th>9</th>\n",
       "      <td>NaN</td>\n",
       "      <td>year_of_capacity_data</td>\n",
       "    </tr>\n",
       "    <tr>\n",
       "      <th>10</th>\n",
       "      <td>6.681385</td>\n",
       "      <td>generation_gwh_2013</td>\n",
       "    </tr>\n",
       "    <tr>\n",
       "      <th>11</th>\n",
       "      <td>9.583382</td>\n",
       "      <td>generation_gwh_2014</td>\n",
       "    </tr>\n",
       "    <tr>\n",
       "      <th>12</th>\n",
       "      <td>7.626165</td>\n",
       "      <td>generation_gwh_2015</td>\n",
       "    </tr>\n",
       "    <tr>\n",
       "      <th>13</th>\n",
       "      <td>9.232047</td>\n",
       "      <td>generation_gwh_2016</td>\n",
       "    </tr>\n",
       "    <tr>\n",
       "      <th>14</th>\n",
       "      <td>6.159419</td>\n",
       "      <td>generation_gwh_2017</td>\n",
       "    </tr>\n",
       "    <tr>\n",
       "      <th>15</th>\n",
       "      <td>NaN</td>\n",
       "      <td>generation_data_source</td>\n",
       "    </tr>\n",
       "  </tbody>\n",
       "</table>\n",
       "</div>"
      ],
      "text/plain": [
       "         vif                Features\n",
       "0   1.074737                    name\n",
       "1   2.040582             capacity_mw\n",
       "2   1.064051                latitude\n",
       "3   1.166226               longitude\n",
       "4   1.024478             other_fuel1\n",
       "5   1.305293      commissioning_year\n",
       "6   3.127762                   owner\n",
       "7   2.542739                  source\n",
       "8   1.018545      geolocation_source\n",
       "9        NaN   year_of_capacity_data\n",
       "10  6.681385     generation_gwh_2013\n",
       "11  9.583382     generation_gwh_2014\n",
       "12  7.626165     generation_gwh_2015\n",
       "13  9.232047     generation_gwh_2016\n",
       "14  6.159419     generation_gwh_2017\n",
       "15       NaN  generation_data_source"
      ]
     },
     "execution_count": 38,
     "metadata": {},
     "output_type": "execute_result"
    }
   ],
   "source": [
    "# finding variance inflation factor(vif)\n",
    "\n",
    "vif = pd.DataFrame()\n",
    "vif[\"vif\"] = [variance_inflation_factor(x_scaled,i) for i in range (x_scaled.shape[1])]\n",
    "vif[\"Features\"] = x.columns\n",
    "vif"
   ]
  },
  {
   "cell_type": "markdown",
   "metadata": {},
   "source": [
    "### By using Variance Inflation Factor(VIF) I can see that there is a no strong relationship among any Features as values are less than 5.\n"
   ]
  },
  {
   "cell_type": "markdown",
   "metadata": {},
   "source": [
    "## Model Building"
   ]
  },
  {
   "cell_type": "code",
   "execution_count": 39,
   "metadata": {},
   "outputs": [],
   "source": [
    "x_train,x_test,y_train,y_test = train_test_split(x_scaled,y,test_size=0.25,random_state = 370)"
   ]
  },
  {
   "cell_type": "markdown",
   "metadata": {},
   "source": [
    "### Splitting the dataset into the Training set and Test set.\n",
    "### The data should be divided into train and test data.\n",
    "### I will use train_test_split feature to divide the data and I will be using testing set of 25% and a training set of 75% of the data.\n",
    "### I can set the random state of the split to ensure consistent results.\n"
   ]
  },
  {
   "cell_type": "markdown",
   "metadata": {},
   "source": [
    "## Logistic Regression"
   ]
  },
  {
   "cell_type": "code",
   "execution_count": 43,
   "metadata": {},
   "outputs": [
    {
     "data": {
      "text/plain": [
       "LogisticRegression()"
      ]
     },
     "execution_count": 43,
     "metadata": {},
     "output_type": "execute_result"
    }
   ],
   "source": [
    "log_reg = LogisticRegression()\n",
    "\n",
    "log_reg.fit(x_train,y_train)"
   ]
  },
  {
   "cell_type": "code",
   "execution_count": 46,
   "metadata": {},
   "outputs": [],
   "source": [
    "y_pred = log_reg.predict(x_test)"
   ]
  },
  {
   "cell_type": "code",
   "execution_count": 47,
   "metadata": {},
   "outputs": [],
   "source": [
    "y_pred_proba = log_reg.predict_proba(x_test)"
   ]
  },
  {
   "cell_type": "code",
   "execution_count": 48,
   "metadata": {},
   "outputs": [
    {
     "data": {
      "text/plain": [
       "array([[50,  1, 12,  0,  0,  7,  1],\n",
       "       [ 4,  1,  8,  0,  1,  0,  0],\n",
       "       [ 7,  0, 50,  0,  0,  0,  0],\n",
       "       [ 2,  0,  3,  0,  0,  0,  0],\n",
       "       [ 0,  0,  0,  0,  1,  0,  1],\n",
       "       [ 4,  0,  0,  0,  0, 25,  6],\n",
       "       [ 1,  0,  0,  0,  0,  1, 31]], dtype=int64)"
      ]
     },
     "execution_count": 48,
     "metadata": {},
     "output_type": "execute_result"
    }
   ],
   "source": [
    "cfm = confusion_matrix(y_test,y_pred)\n",
    "cfm"
   ]
  },
  {
   "cell_type": "code",
   "execution_count": 49,
   "metadata": {},
   "outputs": [
    {
     "data": {
      "text/plain": [
       "0.728110599078341"
      ]
     },
     "execution_count": 49,
     "metadata": {},
     "output_type": "execute_result"
    }
   ],
   "source": [
    "log_reg.score(x_test,y_test)"
   ]
  },
  {
   "cell_type": "code",
   "execution_count": 50,
   "metadata": {
    "scrolled": false
   },
   "outputs": [
    {
     "name": "stdout",
     "output_type": "stream",
     "text": [
      "              precision    recall  f1-score   support\n",
      "\n",
      "           1       0.74      0.70      0.72        71\n",
      "           2       0.50      0.07      0.12        14\n",
      "           3       0.68      0.88      0.77        57\n",
      "           4       0.00      0.00      0.00         5\n",
      "           5       0.50      0.50      0.50         2\n",
      "           6       0.76      0.71      0.74        35\n",
      "           7       0.79      0.94      0.86        33\n",
      "\n",
      "    accuracy                           0.73       217\n",
      "   macro avg       0.57      0.54      0.53       217\n",
      "weighted avg       0.70      0.73      0.70       217\n",
      "\n"
     ]
    }
   ],
   "source": [
    "print(classification_report(y_test,y_pred,digits=2))"
   ]
  },
  {
   "cell_type": "markdown",
   "metadata": {},
   "source": [
    "### By using Logistic Regression I Get Accuracy Score : 73%."
   ]
  },
  {
   "cell_type": "markdown",
   "metadata": {},
   "source": [
    "### After modelling Logistic Regression then my next step is to find Auc Score.\n",
    "### Below is the Auc Score:"
   ]
  },
  {
   "cell_type": "code",
   "execution_count": 51,
   "metadata": {
    "scrolled": true
   },
   "outputs": [
    {
     "data": {
      "text/plain": [
       "0.8950663245953075"
      ]
     },
     "execution_count": 51,
     "metadata": {},
     "output_type": "execute_result"
    }
   ],
   "source": [
    "roc_auc_score(y_test,y_pred_proba,multi_class=\"ovr\")"
   ]
  },
  {
   "cell_type": "markdown",
   "metadata": {},
   "source": [
    "### So, i get Auc score for logistic regression is 89.5 %"
   ]
  },
  {
   "cell_type": "markdown",
   "metadata": {},
   "source": [
    "## KNN"
   ]
  },
  {
   "cell_type": "markdown",
   "metadata": {},
   "source": [
    "#### After using Logistic Regression I use Knn Model to predict the Primary Fuel.\n",
    "#### Therefore, my first work is to use best feature method selection method which I will use with KNN model."
   ]
  },
  {
   "cell_type": "markdown",
   "metadata": {},
   "source": [
    "## Using SelectKBest Method for best features selection"
   ]
  },
  {
   "cell_type": "code",
   "execution_count": 52,
   "metadata": {
    "scrolled": true
   },
   "outputs": [
    {
     "name": "stdout",
     "output_type": "stream",
     "text": [
      "          Features_Name       Score\n",
      "5    commissioning_year  104.546213\n",
      "7                source   76.625253\n",
      "6                 owner   56.680864\n",
      "14  generation_gwh_2017   51.234738\n",
      "13  generation_gwh_2016   47.320573\n",
      "1           capacity_mw   44.854156\n",
      "11  generation_gwh_2014   41.515761\n",
      "12  generation_gwh_2015   41.003124\n",
      "10  generation_gwh_2013   35.478072\n",
      "3             longitude   30.041199\n",
      "4           other_fuel1   14.722273\n",
      "2              latitude   13.193182\n"
     ]
    }
   ],
   "source": [
    "best_features = SelectKBest(score_func=f_classif,k=12)\n",
    "fit = best_features.fit(x,y)\n",
    "df_scores = pd.DataFrame(fit.scores_)\n",
    "df_columns = pd.DataFrame(x.columns)\n",
    "\n",
    "# concatenate Dataframe\n",
    "feature_scores = pd.concat([df_columns,df_scores],axis=1)\n",
    "feature_scores.columns = ['Features_Name','Score']\n",
    "print(feature_scores.nlargest(12,'Score'))"
   ]
  },
  {
   "cell_type": "markdown",
   "metadata": {},
   "source": [
    "#### So, by using Best Feature Method i can say that 'commissioning_year' is the main source for primary Fuel prediction.\n",
    "#### After then i will check remainings feilds of columns."
   ]
  },
  {
   "cell_type": "code",
   "execution_count": 53,
   "metadata": {},
   "outputs": [],
   "source": [
    "knn = KNeighborsClassifier()\n",
    "\n",
    "knn.fit(x_train,y_train)\n",
    "y_pred_proba = knn.predict_proba(x_test)"
   ]
  },
  {
   "cell_type": "code",
   "execution_count": 54,
   "metadata": {},
   "outputs": [],
   "source": [
    "y_pred = knn.predict(x_test)"
   ]
  },
  {
   "cell_type": "code",
   "execution_count": 55,
   "metadata": {},
   "outputs": [
    {
     "data": {
      "text/plain": [
       "array([[54,  1,  8,  0,  0,  7,  1],\n",
       "       [ 4,  4,  5,  0,  0,  0,  1],\n",
       "       [ 8,  0, 49,  0,  0,  0,  0],\n",
       "       [ 3,  0,  2,  0,  0,  0,  0],\n",
       "       [ 0,  0,  0,  0,  1,  0,  1],\n",
       "       [ 7,  0,  0,  0,  0, 23,  5],\n",
       "       [10,  0,  0,  0,  0,  0, 23]], dtype=int64)"
      ]
     },
     "execution_count": 55,
     "metadata": {},
     "output_type": "execute_result"
    }
   ],
   "source": [
    "cfm = confusion_matrix(y_test,y_pred)\n",
    "cfm"
   ]
  },
  {
   "cell_type": "code",
   "execution_count": 56,
   "metadata": {},
   "outputs": [
    {
     "data": {
      "text/plain": [
       "0.7096774193548387"
      ]
     },
     "execution_count": 56,
     "metadata": {},
     "output_type": "execute_result"
    }
   ],
   "source": [
    "knn.score(x_test,y_test)"
   ]
  },
  {
   "cell_type": "code",
   "execution_count": 57,
   "metadata": {
    "scrolled": true
   },
   "outputs": [
    {
     "name": "stdout",
     "output_type": "stream",
     "text": [
      "              precision    recall  f1-score   support\n",
      "\n",
      "           1       0.63      0.76      0.69        71\n",
      "           2       0.80      0.29      0.42        14\n",
      "           3       0.77      0.86      0.81        57\n",
      "           4       0.00      0.00      0.00         5\n",
      "           5       1.00      0.50      0.67         2\n",
      "           6       0.77      0.66      0.71        35\n",
      "           7       0.74      0.70      0.72        33\n",
      "\n",
      "    accuracy                           0.71       217\n",
      "   macro avg       0.67      0.54      0.57       217\n",
      "weighted avg       0.70      0.71      0.69       217\n",
      "\n"
     ]
    }
   ],
   "source": [
    "print(classification_report(y_test,y_pred,digits=2))"
   ]
  },
  {
   "cell_type": "markdown",
   "metadata": {},
   "source": [
    "#### According to my perception of modelling KNN I got Accuracy Score : 71%.\n",
    "#### But this score can improve the accuracy by using Grid Search CV."
   ]
  },
  {
   "cell_type": "markdown",
   "metadata": {},
   "source": [
    "## Let use Grid search CV for the best parameter to improve the accuracy"
   ]
  },
  {
   "cell_type": "code",
   "execution_count": 58,
   "metadata": {},
   "outputs": [],
   "source": [
    "param_grid = {'algorithm':['kd_tree','brute'],\n",
    "             'leaf_size':[15,18],\n",
    "             'n_neighbors':[3,5,7]\n",
    "             }"
   ]
  },
  {
   "cell_type": "code",
   "execution_count": 59,
   "metadata": {},
   "outputs": [],
   "source": [
    "gridsearch = GridSearchCV(estimator=knn,param_grid=param_grid)"
   ]
  },
  {
   "cell_type": "code",
   "execution_count": 60,
   "metadata": {},
   "outputs": [
    {
     "data": {
      "text/plain": [
       "GridSearchCV(estimator=KNeighborsClassifier(),\n",
       "             param_grid={'algorithm': ['kd_tree', 'brute'],\n",
       "                         'leaf_size': [15, 18], 'n_neighbors': [3, 5, 7]})"
      ]
     },
     "execution_count": 60,
     "metadata": {},
     "output_type": "execute_result"
    }
   ],
   "source": [
    "gridsearch.fit(x_train,y_train)"
   ]
  },
  {
   "cell_type": "code",
   "execution_count": 61,
   "metadata": {},
   "outputs": [
    {
     "data": {
      "text/plain": [
       "{'algorithm': 'kd_tree', 'leaf_size': 15, 'n_neighbors': 5}"
      ]
     },
     "execution_count": 61,
     "metadata": {},
     "output_type": "execute_result"
    }
   ],
   "source": [
    "gridsearch.best_params_"
   ]
  },
  {
   "cell_type": "code",
   "execution_count": 62,
   "metadata": {},
   "outputs": [],
   "source": [
    "knn = KNeighborsClassifier(algorithm = 'kd_tree', leaf_size = 15, n_neighbors=5)"
   ]
  },
  {
   "cell_type": "code",
   "execution_count": 63,
   "metadata": {},
   "outputs": [
    {
     "data": {
      "text/plain": [
       "KNeighborsClassifier(algorithm='kd_tree', leaf_size=15)"
      ]
     },
     "execution_count": 63,
     "metadata": {},
     "output_type": "execute_result"
    }
   ],
   "source": [
    "knn.fit(x_train,y_train)"
   ]
  },
  {
   "cell_type": "code",
   "execution_count": 64,
   "metadata": {},
   "outputs": [],
   "source": [
    "y_pred_proba = knn.predict_proba(x_test)"
   ]
  },
  {
   "cell_type": "code",
   "execution_count": 65,
   "metadata": {},
   "outputs": [],
   "source": [
    "y_pred = knn.predict(x_test)"
   ]
  },
  {
   "cell_type": "code",
   "execution_count": 66,
   "metadata": {},
   "outputs": [
    {
     "data": {
      "text/plain": [
       "array([[54,  1,  8,  0,  0,  7,  1],\n",
       "       [ 4,  4,  5,  0,  0,  0,  1],\n",
       "       [ 8,  0, 49,  0,  0,  0,  0],\n",
       "       [ 3,  0,  2,  0,  0,  0,  0],\n",
       "       [ 0,  0,  0,  0,  1,  0,  1],\n",
       "       [ 7,  0,  0,  0,  0, 23,  5],\n",
       "       [10,  0,  0,  0,  0,  0, 23]], dtype=int64)"
      ]
     },
     "execution_count": 66,
     "metadata": {},
     "output_type": "execute_result"
    }
   ],
   "source": [
    "cfm = confusion_matrix(y_test,y_pred)\n",
    "cfm"
   ]
  },
  {
   "cell_type": "code",
   "execution_count": 67,
   "metadata": {},
   "outputs": [
    {
     "data": {
      "text/plain": [
       "0.7096774193548387"
      ]
     },
     "execution_count": 67,
     "metadata": {},
     "output_type": "execute_result"
    }
   ],
   "source": [
    "knn.score(x_test,y_test)"
   ]
  },
  {
   "cell_type": "code",
   "execution_count": 68,
   "metadata": {
    "scrolled": true
   },
   "outputs": [
    {
     "name": "stdout",
     "output_type": "stream",
     "text": [
      "              precision    recall  f1-score   support\n",
      "\n",
      "           1       0.63      0.76      0.69        71\n",
      "           2       0.80      0.29      0.42        14\n",
      "           3       0.77      0.86      0.81        57\n",
      "           4       0.00      0.00      0.00         5\n",
      "           5       1.00      0.50      0.67         2\n",
      "           6       0.77      0.66      0.71        35\n",
      "           7       0.74      0.70      0.72        33\n",
      "\n",
      "    accuracy                           0.71       217\n",
      "   macro avg       0.67      0.54      0.57       217\n",
      "weighted avg       0.70      0.71      0.69       217\n",
      "\n"
     ]
    }
   ],
   "source": [
    "print(classification_report(y_test,y_pred,digits=2))"
   ]
  },
  {
   "cell_type": "markdown",
   "metadata": {},
   "source": [
    "#### By using Grid Search CV I improve the Accuracy Score : 71%\n",
    "#### After modelling Knn then my next step is to find Auc Score.\n",
    "### Below is the Auc Score:"
   ]
  },
  {
   "cell_type": "code",
   "execution_count": 69,
   "metadata": {},
   "outputs": [
    {
     "data": {
      "text/plain": [
       "0.8081401636128959"
      ]
     },
     "execution_count": 69,
     "metadata": {},
     "output_type": "execute_result"
    }
   ],
   "source": [
    "roc_auc_score(y_test,y_pred_proba,multi_class=\"ovr\")"
   ]
  },
  {
   "cell_type": "markdown",
   "metadata": {},
   "source": [
    "### So, I get Auc Score From KNN is 80.81%"
   ]
  },
  {
   "cell_type": "markdown",
   "metadata": {},
   "source": [
    "## RandomForestClassifier"
   ]
  },
  {
   "cell_type": "markdown",
   "metadata": {},
   "source": [
    "### After using KNN I use RandomForestClassifier to predict the Primary Fuel."
   ]
  },
  {
   "cell_type": "code",
   "execution_count": 70,
   "metadata": {},
   "outputs": [],
   "source": [
    "rfc = RandomForestClassifier()\n",
    "\n",
    "rfc.fit(x_train,y_train)\n",
    "y_pred_proba = rfc.predict_proba(x_test)"
   ]
  },
  {
   "cell_type": "code",
   "execution_count": 71,
   "metadata": {},
   "outputs": [],
   "source": [
    "y_pred = rfc.predict(x_test)"
   ]
  },
  {
   "cell_type": "code",
   "execution_count": 72,
   "metadata": {},
   "outputs": [
    {
     "data": {
      "text/plain": [
       "array([[61,  0,  7,  0,  0,  3,  0],\n",
       "       [ 3,  3,  5,  0,  3,  0,  0],\n",
       "       [ 4,  0, 53,  0,  0,  0,  0],\n",
       "       [ 5,  0,  0,  0,  0,  0,  0],\n",
       "       [ 0,  2,  0,  0,  0,  0,  0],\n",
       "       [ 2,  0,  0,  0,  0, 32,  1],\n",
       "       [ 0,  0,  0,  0,  0,  0, 33]], dtype=int64)"
      ]
     },
     "execution_count": 72,
     "metadata": {},
     "output_type": "execute_result"
    }
   ],
   "source": [
    "cfm = confusion_matrix(y_test,y_pred)\n",
    "cfm"
   ]
  },
  {
   "cell_type": "code",
   "execution_count": 73,
   "metadata": {},
   "outputs": [
    {
     "data": {
      "text/plain": [
       "0.8387096774193549"
      ]
     },
     "execution_count": 73,
     "metadata": {},
     "output_type": "execute_result"
    }
   ],
   "source": [
    "rfc.score(x_test,y_test)"
   ]
  },
  {
   "cell_type": "code",
   "execution_count": 74,
   "metadata": {
    "scrolled": true
   },
   "outputs": [
    {
     "name": "stdout",
     "output_type": "stream",
     "text": [
      "              precision    recall  f1-score   support\n",
      "\n",
      "           1       0.81      0.86      0.84        71\n",
      "           2       0.60      0.21      0.32        14\n",
      "           3       0.82      0.93      0.87        57\n",
      "           4       0.00      0.00      0.00         5\n",
      "           5       0.00      0.00      0.00         2\n",
      "           6       0.91      0.91      0.91        35\n",
      "           7       0.97      1.00      0.99        33\n",
      "\n",
      "    accuracy                           0.84       217\n",
      "   macro avg       0.59      0.56      0.56       217\n",
      "weighted avg       0.81      0.84      0.82       217\n",
      "\n"
     ]
    }
   ],
   "source": [
    "print(classification_report(y_test,y_pred,digits=2))"
   ]
  },
  {
   "cell_type": "markdown",
   "metadata": {},
   "source": [
    "### According to my perception of modelling RandomForestClassifier I got Accuracy Score : 84%.\n",
    "### But this score can improve the accuracy by using Grid Search CV."
   ]
  },
  {
   "cell_type": "markdown",
   "metadata": {},
   "source": [
    "## Let use Grid search CV for the best parameter to improve the accuracy"
   ]
  },
  {
   "cell_type": "code",
   "execution_count": 75,
   "metadata": {},
   "outputs": [
    {
     "name": "stdout",
     "output_type": "stream",
     "text": [
      "{'criterion': 'entropy', 'max_depth': 10, 'min_samples_leaf': 5, 'min_samples_split': 10, 'n_estimators': 15}\n"
     ]
    }
   ],
   "source": [
    "params = {'n_estimators':[13,15],\n",
    "         'criterion':['entropy'],\n",
    "         'max_depth':[10],\n",
    "         'min_samples_split':[10,11],\n",
    "         'min_samples_leaf':[5,6]\n",
    "         }\n",
    "\n",
    "grd = GridSearchCV(rfc,param_grid=params)\n",
    "grd.fit(x_train,y_train)\n",
    "print(grd.best_params_)"
   ]
  },
  {
   "cell_type": "code",
   "execution_count": 76,
   "metadata": {},
   "outputs": [],
   "source": [
    "rfc = grd.best_estimator_"
   ]
  },
  {
   "cell_type": "code",
   "execution_count": 77,
   "metadata": {},
   "outputs": [
    {
     "data": {
      "text/plain": [
       "RandomForestClassifier(criterion='entropy', max_depth=10, min_samples_leaf=5,\n",
       "                       min_samples_split=10, n_estimators=15)"
      ]
     },
     "execution_count": 77,
     "metadata": {},
     "output_type": "execute_result"
    }
   ],
   "source": [
    "rfc.fit(x_train,y_train)"
   ]
  },
  {
   "cell_type": "code",
   "execution_count": 78,
   "metadata": {},
   "outputs": [],
   "source": [
    "y_pred_proba = rfc.predict_proba(x_test)"
   ]
  },
  {
   "cell_type": "code",
   "execution_count": 79,
   "metadata": {},
   "outputs": [],
   "source": [
    "y_pred = rfc.predict(x_test)"
   ]
  },
  {
   "cell_type": "code",
   "execution_count": 80,
   "metadata": {},
   "outputs": [
    {
     "data": {
      "text/plain": [
       "array([[57,  0, 10,  0,  0,  3,  1],\n",
       "       [ 3,  2,  8,  0,  1,  0,  0],\n",
       "       [ 5,  0, 52,  0,  0,  0,  0],\n",
       "       [ 5,  0,  0,  0,  0,  0,  0],\n",
       "       [ 0,  1,  0,  0,  0,  0,  1],\n",
       "       [ 3,  0,  1,  0,  0, 28,  3],\n",
       "       [ 0,  0,  0,  0,  0,  0, 33]], dtype=int64)"
      ]
     },
     "execution_count": 80,
     "metadata": {},
     "output_type": "execute_result"
    }
   ],
   "source": [
    "cfm = confusion_matrix(y_test,y_pred)\n",
    "cfm"
   ]
  },
  {
   "cell_type": "code",
   "execution_count": 81,
   "metadata": {},
   "outputs": [
    {
     "data": {
      "text/plain": [
       "0.7926267281105991"
      ]
     },
     "execution_count": 81,
     "metadata": {},
     "output_type": "execute_result"
    }
   ],
   "source": [
    "rfc.score(x_test,y_test)"
   ]
  },
  {
   "cell_type": "code",
   "execution_count": 82,
   "metadata": {
    "scrolled": true
   },
   "outputs": [
    {
     "name": "stdout",
     "output_type": "stream",
     "text": [
      "              precision    recall  f1-score   support\n",
      "\n",
      "           1       0.78      0.80      0.79        71\n",
      "           2       0.67      0.14      0.24        14\n",
      "           3       0.73      0.91      0.81        57\n",
      "           4       0.00      0.00      0.00         5\n",
      "           5       0.00      0.00      0.00         2\n",
      "           6       0.90      0.80      0.85        35\n",
      "           7       0.87      1.00      0.93        33\n",
      "\n",
      "    accuracy                           0.79       217\n",
      "   macro avg       0.56      0.52      0.52       217\n",
      "weighted avg       0.77      0.79      0.77       217\n",
      "\n"
     ]
    }
   ],
   "source": [
    "print(classification_report(y_test,y_pred,digits=2))"
   ]
  },
  {
   "cell_type": "markdown",
   "metadata": {},
   "source": [
    "### By using Grid Search CV I improve the Accuracy Score : 79%\n",
    "### After modelling Random Forest then my next step is to find Auc Score.\n",
    "### Below is the Auc Score:"
   ]
  },
  {
   "cell_type": "code",
   "execution_count": 83,
   "metadata": {},
   "outputs": [
    {
     "data": {
      "text/plain": [
       "0.921960225968294"
      ]
     },
     "execution_count": 83,
     "metadata": {},
     "output_type": "execute_result"
    }
   ],
   "source": [
    "roc_auc_score(y_test,y_pred_proba,multi_class=\"ovr\")"
   ]
  },
  {
   "cell_type": "markdown",
   "metadata": {},
   "source": [
    "### So, I get Auc Score From KNN is 92.19%"
   ]
  },
  {
   "cell_type": "markdown",
   "metadata": {},
   "source": [
    "## Decision Tree Classifier"
   ]
  },
  {
   "cell_type": "markdown",
   "metadata": {},
   "source": [
    "### After using Random Forest Classifier I use Decision Tree Classifier to predict the Primary fuel."
   ]
  },
  {
   "cell_type": "code",
   "execution_count": 84,
   "metadata": {},
   "outputs": [],
   "source": [
    "dtc = DecisionTreeClassifier()\n",
    "dtc.fit(x_train,y_train)\n",
    "y_pred_proba = dtc.predict_proba(x_test)"
   ]
  },
  {
   "cell_type": "code",
   "execution_count": 85,
   "metadata": {},
   "outputs": [],
   "source": [
    "y_pred = dtc.predict(x_test)"
   ]
  },
  {
   "cell_type": "code",
   "execution_count": 86,
   "metadata": {},
   "outputs": [
    {
     "data": {
      "text/plain": [
       "array([[56,  7,  4,  0,  1,  3,  0],\n",
       "       [ 4,  5,  4,  0,  0,  1,  0],\n",
       "       [ 4,  3, 50,  0,  0,  0,  0],\n",
       "       [ 4,  0,  0,  1,  0,  0,  0],\n",
       "       [ 0,  2,  0,  0,  0,  0,  0],\n",
       "       [ 2,  1,  0,  0,  0, 31,  1],\n",
       "       [ 0,  0,  0,  0,  0,  0, 33]], dtype=int64)"
      ]
     },
     "execution_count": 86,
     "metadata": {},
     "output_type": "execute_result"
    }
   ],
   "source": [
    "cfm = confusion_matrix(y_test,y_pred)\n",
    "cfm"
   ]
  },
  {
   "cell_type": "code",
   "execution_count": 87,
   "metadata": {},
   "outputs": [
    {
     "data": {
      "text/plain": [
       "0.8110599078341014"
      ]
     },
     "execution_count": 87,
     "metadata": {},
     "output_type": "execute_result"
    }
   ],
   "source": [
    "dtc.score(x_test,y_test)"
   ]
  },
  {
   "cell_type": "code",
   "execution_count": 88,
   "metadata": {
    "scrolled": true
   },
   "outputs": [
    {
     "name": "stdout",
     "output_type": "stream",
     "text": [
      "              precision    recall  f1-score   support\n",
      "\n",
      "           1       0.80      0.79      0.79        71\n",
      "           2       0.28      0.36      0.31        14\n",
      "           3       0.86      0.88      0.87        57\n",
      "           4       1.00      0.20      0.33         5\n",
      "           5       0.00      0.00      0.00         2\n",
      "           6       0.89      0.89      0.89        35\n",
      "           7       0.97      1.00      0.99        33\n",
      "\n",
      "    accuracy                           0.81       217\n",
      "   macro avg       0.69      0.59      0.60       217\n",
      "weighted avg       0.82      0.81      0.81       217\n",
      "\n"
     ]
    }
   ],
   "source": [
    "print(classification_report(y_test,y_pred,digits=2))"
   ]
  },
  {
   "cell_type": "markdown",
   "metadata": {},
   "source": [
    "### According to my perception of modelling Decision Tree Classifier I got Accuracy Score : 81%.\n",
    "### But this score can improve the accuracy by using Grid Search CV.\n"
   ]
  },
  {
   "cell_type": "markdown",
   "metadata": {},
   "source": [
    "## Let use Grid search CV for the best parameter to improve the accuracy"
   ]
  },
  {
   "cell_type": "code",
   "execution_count": 89,
   "metadata": {},
   "outputs": [],
   "source": [
    "grid_param = {'criterion':['gini','entropy'],\n",
    "             'max_depth':range(2,10,3),\n",
    "             'min_samples_leaf':range(1,10,2),\n",
    "             'min_samples_split':range(2,10,2)\n",
    "             }"
   ]
  },
  {
   "cell_type": "code",
   "execution_count": 90,
   "metadata": {},
   "outputs": [],
   "source": [
    "grid_search = GridSearchCV(estimator=dtc,\n",
    "                          param_grid=grid_param,\n",
    "                          cv=5,\n",
    "                          n_jobs=1)"
   ]
  },
  {
   "cell_type": "code",
   "execution_count": 91,
   "metadata": {},
   "outputs": [
    {
     "data": {
      "text/plain": [
       "GridSearchCV(cv=5, estimator=DecisionTreeClassifier(), n_jobs=1,\n",
       "             param_grid={'criterion': ['gini', 'entropy'],\n",
       "                         'max_depth': range(2, 10, 3),\n",
       "                         'min_samples_leaf': range(1, 10, 2),\n",
       "                         'min_samples_split': range(2, 10, 2)})"
      ]
     },
     "execution_count": 91,
     "metadata": {},
     "output_type": "execute_result"
    }
   ],
   "source": [
    "grid_search.fit(x_train,y_train)"
   ]
  },
  {
   "cell_type": "code",
   "execution_count": 92,
   "metadata": {},
   "outputs": [
    {
     "name": "stdout",
     "output_type": "stream",
     "text": [
      "{'criterion': 'gini', 'max_depth': 8, 'min_samples_leaf': 5, 'min_samples_split': 8}\n"
     ]
    }
   ],
   "source": [
    "best_parameters = grid_search.best_params_\n",
    "print(best_parameters)"
   ]
  },
  {
   "cell_type": "code",
   "execution_count": 93,
   "metadata": {},
   "outputs": [
    {
     "data": {
      "text/plain": [
       "DecisionTreeClassifier(max_depth=8, min_samples_leaf=5)"
      ]
     },
     "execution_count": 93,
     "metadata": {},
     "output_type": "execute_result"
    }
   ],
   "source": [
    "dtc = DecisionTreeClassifier(criterion='gini',max_depth=8,min_samples_leaf=5,min_samples_split=2)\n",
    "dtc.fit(x_train,y_train)"
   ]
  },
  {
   "cell_type": "code",
   "execution_count": 94,
   "metadata": {},
   "outputs": [],
   "source": [
    "y_pred_proba = dtc.predict_proba(x_test)"
   ]
  },
  {
   "cell_type": "code",
   "execution_count": 95,
   "metadata": {},
   "outputs": [],
   "source": [
    "y_pred = dtc.predict(x_test)"
   ]
  },
  {
   "cell_type": "code",
   "execution_count": 104,
   "metadata": {},
   "outputs": [
    {
     "data": {
      "text/plain": [
       "array([[55,  4, 10,  0,  0,  2,  0],\n",
       "       [ 2,  5,  6,  0,  1,  0,  0],\n",
       "       [ 2,  0, 53,  0,  2,  0,  0],\n",
       "       [ 3,  2,  0,  0,  0,  0,  0],\n",
       "       [ 1,  1,  0,  0,  0,  0,  0],\n",
       "       [ 4,  0,  0,  0,  0, 30,  1],\n",
       "       [ 0,  0,  0,  0,  0,  0, 33]], dtype=int64)"
      ]
     },
     "execution_count": 104,
     "metadata": {},
     "output_type": "execute_result"
    }
   ],
   "source": [
    "cfm = confusion_matrix(y_test,y_pred)\n",
    "cfm"
   ]
  },
  {
   "cell_type": "code",
   "execution_count": 97,
   "metadata": {},
   "outputs": [
    {
     "data": {
      "text/plain": [
       "0.8110599078341014"
      ]
     },
     "execution_count": 97,
     "metadata": {},
     "output_type": "execute_result"
    }
   ],
   "source": [
    "dtc.score(x_test,y_test)"
   ]
  },
  {
   "cell_type": "code",
   "execution_count": 98,
   "metadata": {},
   "outputs": [
    {
     "data": {
      "text/plain": [
       "0.8110599078341014"
      ]
     },
     "execution_count": 98,
     "metadata": {},
     "output_type": "execute_result"
    }
   ],
   "source": [
    "accuracy = accuracy_score(y_test,y_pred)\n",
    "accuracy"
   ]
  },
  {
   "cell_type": "code",
   "execution_count": 99,
   "metadata": {
    "scrolled": false
   },
   "outputs": [
    {
     "name": "stdout",
     "output_type": "stream",
     "text": [
      "              precision    recall  f1-score   support\n",
      "\n",
      "           1       0.82      0.77      0.80        71\n",
      "           2       0.42      0.36      0.38        14\n",
      "           3       0.77      0.93      0.84        57\n",
      "           4       0.00      0.00      0.00         5\n",
      "           5       0.00      0.00      0.00         2\n",
      "           6       0.94      0.86      0.90        35\n",
      "           7       0.97      1.00      0.99        33\n",
      "\n",
      "    accuracy                           0.81       217\n",
      "   macro avg       0.56      0.56      0.56       217\n",
      "weighted avg       0.80      0.81      0.80       217\n",
      "\n"
     ]
    }
   ],
   "source": [
    "print(classification_report(y_test,y_pred,digits=2))"
   ]
  },
  {
   "cell_type": "markdown",
   "metadata": {},
   "source": [
    "### By using Grid Search CV I improve the Accuracy Score : 81%\n",
    "### After modelling Decision Tree Classifier then my next step is to find Auc Score.\n",
    "### Below is the Auc Score:"
   ]
  },
  {
   "cell_type": "code",
   "execution_count": 100,
   "metadata": {},
   "outputs": [
    {
     "data": {
      "text/plain": [
       "0.7889410514167458"
      ]
     },
     "execution_count": 100,
     "metadata": {},
     "output_type": "execute_result"
    }
   ],
   "source": [
    "roc_auc_score(y_test,y_pred_proba,multi_class=\"ovr\")"
   ]
  },
  {
   "cell_type": "markdown",
   "metadata": {},
   "source": [
    "### So, I get Auc Score From Decision Tree Classifier is 78.89%"
   ]
  },
  {
   "cell_type": "markdown",
   "metadata": {},
   "source": [
    "## Saving the Best Model"
   ]
  },
  {
   "cell_type": "code",
   "execution_count": 489,
   "metadata": {},
   "outputs": [],
   "source": [
    "# saving the Random Forest Regressor Model\n",
    "\n",
    "filename = 'finalized_model.pickle'\n",
    "pickle.dump(rfc,open(filename,'wb'))\n",
    "\n",
    "loaded_model = pickle.load(open(filename,'rb'))"
   ]
  },
  {
   "cell_type": "markdown",
   "metadata": {},
   "source": [
    "### From the Above Coding I Get best model Random Forest Accuracy Score.\n",
    "### So I use Random Forest Classifier to Save the Best Model."
   ]
  },
  {
   "cell_type": "markdown",
   "metadata": {},
   "source": [
    "### After completing classification model building my next step is to complete this dataset prediction by using Regression model."
   ]
  },
  {
   "cell_type": "markdown",
   "metadata": {},
   "source": [
    "# Regression Model"
   ]
  },
  {
   "cell_type": "code",
   "execution_count": 221,
   "metadata": {},
   "outputs": [
    {
     "data": {
      "text/html": [
       "<img src=\"https://365datascience.com/resources/blog/2018-10-The-linear-regression-model.png\"/>"
      ],
      "text/plain": [
       "<IPython.core.display.Image object>"
      ]
     },
     "execution_count": 221,
     "metadata": {},
     "output_type": "execute_result"
    }
   ],
   "source": [
    "from IPython.display import Image\n",
    "Image(url= \"https://365datascience.com/resources/blog/2018-10-The-linear-regression-model.png\")"
   ]
  },
  {
   "cell_type": "code",
   "execution_count": 456,
   "metadata": {},
   "outputs": [],
   "source": [
    "df.drop('generation_gwh_2014',inplace=True,axis=1)"
   ]
  },
  {
   "cell_type": "markdown",
   "metadata": {},
   "source": [
    "### Using capacity_mw for prediction"
   ]
  },
  {
   "cell_type": "code",
   "execution_count": 457,
   "metadata": {},
   "outputs": [],
   "source": [
    "# dividing features and label\n",
    "\n",
    "x = df.drop('capacity_mw',axis=1)\n",
    "y = df.capacity_mw"
   ]
  },
  {
   "cell_type": "markdown",
   "metadata": {},
   "source": [
    "### Separate response variable and features in x & y for predicting Regression model."
   ]
  },
  {
   "cell_type": "markdown",
   "metadata": {},
   "source": [
    "## StandardScaler"
   ]
  },
  {
   "cell_type": "markdown",
   "metadata": {},
   "source": [
    "### The scikit library provides various types of scalers including MinMax Scaler and the StandardScaler.\n",
    "\n",
    "### Below I will use the StandardScaler to scale the data for predicting Regression model."
   ]
  },
  {
   "cell_type": "code",
   "execution_count": 458,
   "metadata": {
    "scrolled": true
   },
   "outputs": [
    {
     "data": {
      "text/plain": [
       "array([[ 0.004551  ,  1.15214913, -0.90157571, ...,  0.1450834 ,\n",
       "         0.13895816,  0.        ],\n",
       "       [-1.71552151,  0.5967866 , -0.57561684, ...,  0.1450834 ,\n",
       "         0.13895816,  0.        ],\n",
       "       [-1.71172024,  0.13162823, -1.82289847, ...,  0.1450834 ,\n",
       "         0.13895816,  0.        ],\n",
       "       ...,\n",
       "       [ 1.72082223, -0.94542669, -0.34404144, ...,  0.1450834 ,\n",
       "         0.13895816,  0.        ],\n",
       "       [ 1.7246235 ,  0.52913754, -0.78079727, ...,  0.1450834 ,\n",
       "         0.13895816,  0.        ],\n",
       "       [ 1.72842477, -1.81340815,  0.1075556 , ...,  0.1450834 ,\n",
       "         0.13895816,  0.        ]])"
      ]
     },
     "execution_count": 458,
     "metadata": {},
     "output_type": "execute_result"
    }
   ],
   "source": [
    "scalar = StandardScaler()\n",
    "x_scaled = scalar.fit_transform(x)\n",
    "x_scaled"
   ]
  },
  {
   "cell_type": "markdown",
   "metadata": {},
   "source": [
    "### By Using Standard Scaler I have scaled the data in scaled one."
   ]
  },
  {
   "cell_type": "markdown",
   "metadata": {},
   "source": [
    "## VIF - variance inflation factor"
   ]
  },
  {
   "cell_type": "code",
   "execution_count": 459,
   "metadata": {
    "scrolled": true
   },
   "outputs": [
    {
     "data": {
      "text/html": [
       "<div>\n",
       "<style scoped>\n",
       "    .dataframe tbody tr th:only-of-type {\n",
       "        vertical-align: middle;\n",
       "    }\n",
       "\n",
       "    .dataframe tbody tr th {\n",
       "        vertical-align: top;\n",
       "    }\n",
       "\n",
       "    .dataframe thead th {\n",
       "        text-align: right;\n",
       "    }\n",
       "</style>\n",
       "<table border=\"1\" class=\"dataframe\">\n",
       "  <thead>\n",
       "    <tr style=\"text-align: right;\">\n",
       "      <th></th>\n",
       "      <th>vif</th>\n",
       "      <th>Features</th>\n",
       "    </tr>\n",
       "  </thead>\n",
       "  <tbody>\n",
       "    <tr>\n",
       "      <th>0</th>\n",
       "      <td>1.071358</td>\n",
       "      <td>name</td>\n",
       "    </tr>\n",
       "    <tr>\n",
       "      <th>1</th>\n",
       "      <td>1.063100</td>\n",
       "      <td>latitude</td>\n",
       "    </tr>\n",
       "    <tr>\n",
       "      <th>2</th>\n",
       "      <td>1.276753</td>\n",
       "      <td>longitude</td>\n",
       "    </tr>\n",
       "    <tr>\n",
       "      <th>3</th>\n",
       "      <td>1.402656</td>\n",
       "      <td>primary_fuel</td>\n",
       "    </tr>\n",
       "    <tr>\n",
       "      <th>4</th>\n",
       "      <td>1.025147</td>\n",
       "      <td>other_fuel1</td>\n",
       "    </tr>\n",
       "    <tr>\n",
       "      <th>5</th>\n",
       "      <td>1.311822</td>\n",
       "      <td>commissioning_year</td>\n",
       "    </tr>\n",
       "    <tr>\n",
       "      <th>6</th>\n",
       "      <td>3.211073</td>\n",
       "      <td>owner</td>\n",
       "    </tr>\n",
       "    <tr>\n",
       "      <th>7</th>\n",
       "      <td>2.779883</td>\n",
       "      <td>source</td>\n",
       "    </tr>\n",
       "    <tr>\n",
       "      <th>8</th>\n",
       "      <td>1.022350</td>\n",
       "      <td>geolocation_source</td>\n",
       "    </tr>\n",
       "    <tr>\n",
       "      <th>9</th>\n",
       "      <td>NaN</td>\n",
       "      <td>year_of_capacity_data</td>\n",
       "    </tr>\n",
       "    <tr>\n",
       "      <th>10</th>\n",
       "      <td>2.982714</td>\n",
       "      <td>generation_gwh_2013</td>\n",
       "    </tr>\n",
       "    <tr>\n",
       "      <th>11</th>\n",
       "      <td>6.204459</td>\n",
       "      <td>generation_gwh_2015</td>\n",
       "    </tr>\n",
       "    <tr>\n",
       "      <th>12</th>\n",
       "      <td>8.891910</td>\n",
       "      <td>generation_gwh_2016</td>\n",
       "    </tr>\n",
       "    <tr>\n",
       "      <th>13</th>\n",
       "      <td>5.443754</td>\n",
       "      <td>generation_gwh_2017</td>\n",
       "    </tr>\n",
       "    <tr>\n",
       "      <th>14</th>\n",
       "      <td>NaN</td>\n",
       "      <td>generation_data_source</td>\n",
       "    </tr>\n",
       "  </tbody>\n",
       "</table>\n",
       "</div>"
      ],
      "text/plain": [
       "         vif                Features\n",
       "0   1.071358                    name\n",
       "1   1.063100                latitude\n",
       "2   1.276753               longitude\n",
       "3   1.402656            primary_fuel\n",
       "4   1.025147             other_fuel1\n",
       "5   1.311822      commissioning_year\n",
       "6   3.211073                   owner\n",
       "7   2.779883                  source\n",
       "8   1.022350      geolocation_source\n",
       "9        NaN   year_of_capacity_data\n",
       "10  2.982714     generation_gwh_2013\n",
       "11  6.204459     generation_gwh_2015\n",
       "12  8.891910     generation_gwh_2016\n",
       "13  5.443754     generation_gwh_2017\n",
       "14       NaN  generation_data_source"
      ]
     },
     "execution_count": 459,
     "metadata": {},
     "output_type": "execute_result"
    }
   ],
   "source": [
    "# finding variance inflation factor(vif)\n",
    "\n",
    "vif = pd.DataFrame()\n",
    "vif[\"vif\"] = [variance_inflation_factor(x_scaled,i) for i in range (x_scaled.shape[1])]\n",
    "vif[\"Features\"] = x.columns\n",
    "vif"
   ]
  },
  {
   "cell_type": "markdown",
   "metadata": {},
   "source": [
    "#### By using Variance Inflation Factor(VIF) I can see that there is a no strong relationship among any Features as values are less than 5.**"
   ]
  },
  {
   "cell_type": "markdown",
   "metadata": {},
   "source": [
    "## Model Building"
   ]
  },
  {
   "cell_type": "code",
   "execution_count": 460,
   "metadata": {},
   "outputs": [],
   "source": [
    "x_train,x_test,y_train,y_test = train_test_split(x_scaled,y,test_size=0.25,random_state = 370)"
   ]
  },
  {
   "cell_type": "markdown",
   "metadata": {},
   "source": [
    "### Splitting the dataset into the Training set and Test set.\n",
    "\n",
    "### The data should be divided into train and test data.\n",
    "\n",
    "### *I will use train_test_split feature to divide the data and I will be using testing set of 25% and a training set of 75% of the data.\n",
    "\n",
    "### I can set the random state of the split to ensure consistent results.\n",
    "\n"
   ]
  },
  {
   "cell_type": "markdown",
   "metadata": {},
   "source": [
    "## Linear Regression model"
   ]
  },
  {
   "cell_type": "code",
   "execution_count": 461,
   "metadata": {},
   "outputs": [
    {
     "data": {
      "text/plain": [
       "LinearRegression()"
      ]
     },
     "execution_count": 461,
     "metadata": {},
     "output_type": "execute_result"
    }
   ],
   "source": [
    "rg = LinearRegression()\n",
    "rg.fit(x_train,y_train)"
   ]
  },
  {
   "cell_type": "code",
   "execution_count": 462,
   "metadata": {},
   "outputs": [
    {
     "data": {
      "text/plain": [
       "0.5559912625073449"
      ]
     },
     "execution_count": 462,
     "metadata": {},
     "output_type": "execute_result"
    }
   ],
   "source": [
    "# adjusted r2 score\n",
    "rg.score(x_train,y_train)"
   ]
  },
  {
   "cell_type": "code",
   "execution_count": 463,
   "metadata": {},
   "outputs": [
    {
     "data": {
      "text/plain": [
       "0.6029849387925894"
      ]
     },
     "execution_count": 463,
     "metadata": {},
     "output_type": "execute_result"
    }
   ],
   "source": [
    "rg.score(x_test,y_test)"
   ]
  },
  {
   "cell_type": "code",
   "execution_count": 464,
   "metadata": {},
   "outputs": [
    {
     "data": {
      "text/plain": [
       "array([ 9.92666468e+01,  3.69421337e+02,  2.41237715e+02,  3.85257222e+02,\n",
       "        5.29477047e+02,  1.53749127e+02,  7.57529604e+01,  3.99531378e+02,\n",
       "        3.32236972e+02,  1.04854236e+03,  4.53442875e+02, -1.11307201e+02,\n",
       "       -1.70432368e+02, -2.17866110e+02,  3.58266359e+02,  7.11459170e+01,\n",
       "        1.75559096e+02, -6.29577412e+01,  5.55854247e+02,  1.01969808e+03,\n",
       "        1.17671095e+02,  7.62363883e+02,  4.12842287e+02,  3.85123716e+02,\n",
       "       -6.40120473e+01,  5.82916009e+01,  4.90354718e+02,  5.04496251e+01,\n",
       "        3.48552766e+02,  8.26402419e-02, -4.47062123e+01,  3.58108730e+02,\n",
       "        3.48394915e+02,  1.42110907e+02,  3.99634195e+02,  7.10049183e+02,\n",
       "        4.12554340e+02,  4.24734183e+02, -7.78850137e+01,  2.50861122e+02,\n",
       "        6.69728915e+01,  1.29358217e+02,  2.91759545e+02,  4.33295213e+02,\n",
       "        2.47149027e+02,  1.62277927e+02,  4.98958425e+02,  8.83752148e+01,\n",
       "        6.32368694e+02,  1.18258968e+02,  4.12991661e+02, -1.99509977e+02,\n",
       "        3.58825000e+02,  1.40784928e+02,  2.05183916e+02,  4.09205353e+02,\n",
       "        4.55797470e+02,  4.44862021e+02, -3.36521782e+00,  4.95603222e+02,\n",
       "        1.22681205e+03, -2.85795949e+01,  5.69491742e+02,  4.68385173e+02,\n",
       "        1.90130059e+02,  8.94193858e+01,  1.22970010e+02,  1.09841349e+02,\n",
       "        3.84008716e+02,  3.45794784e+02,  3.06485073e+02,  3.24584645e+02,\n",
       "        2.00750459e+02,  2.38769765e+02,  1.39145688e+02,  2.68578353e+02,\n",
       "        1.67020798e+02,  2.14625062e+02,  1.99363949e+02,  5.49007603e+02,\n",
       "        4.01904642e+02,  2.68741590e+02,  4.92400448e+01,  3.90431065e+01,\n",
       "        2.74721353e+02,  1.00529818e+02,  6.80080279e+02,  8.86878904e+01,\n",
       "        4.34350185e+02, -1.38367012e+01,  1.94604675e+02,  5.78035543e+02,\n",
       "        8.23790174e+02,  2.53746556e+02,  9.83396921e+01,  2.58826124e+01,\n",
       "        1.09063487e+02,  9.03455183e+01,  1.28303475e+02,  1.13900608e+02,\n",
       "        2.81627174e+01,  3.12978021e+02,  1.07886890e+02,  5.16924684e+02,\n",
       "       -1.08744397e+02, -8.17468540e+00,  1.37023779e+02,  6.07959869e-01,\n",
       "        1.11200688e+02,  1.58195373e+02, -5.46695866e+01, -3.23733351e+01,\n",
       "        9.56169300e+01, -1.89495173e+02,  8.74473511e+01,  2.85964081e+02,\n",
       "        1.78781804e+02,  1.31967524e+03,  2.27425073e+02, -1.48336892e+02,\n",
       "        5.90575322e+02,  3.24042745e+02,  1.33865587e+03,  4.44184233e+02,\n",
       "        3.74356528e+02,  2.94477212e+01,  2.71972220e+02,  5.46433655e+02,\n",
       "        2.03056674e+00,  7.39544769e+01,  1.09384843e+02,  1.04666435e+03,\n",
       "        3.73750573e+02, -2.39299070e+00,  1.42755326e+02,  3.46148507e+02,\n",
       "        1.27385124e+01,  5.36793753e+02,  5.09088613e+02,  3.89904713e+01,\n",
       "       -2.21358152e+02, -5.14637612e+01,  4.19631663e+01,  2.26718768e+02,\n",
       "        9.87605682e+01,  4.73074108e+01,  1.26298574e+02,  4.31540739e+02,\n",
       "        4.10544859e+02,  3.84781845e+01,  4.18927444e+01,  1.25056597e+03,\n",
       "        2.61078955e+01,  3.88330820e+02,  2.25195631e+02,  3.90324747e+02,\n",
       "        1.80062495e+02,  1.41166089e+02,  6.54119766e+01,  5.48871675e+02,\n",
       "        6.26493308e+02,  2.48730275e+02,  2.31134861e+02,  4.81427348e+02,\n",
       "        1.72715677e+02,  1.20027721e+02, -8.07128629e+00,  4.77041205e+02,\n",
       "        1.79221870e+02,  5.53983489e+01,  1.29185962e+03, -2.45382977e+01,\n",
       "        2.54725563e+02,  2.82731456e+02,  7.04626132e+02,  1.28487501e+01,\n",
       "        4.10040151e+01,  2.09131761e+02,  1.81409835e+02,  1.04206913e+02,\n",
       "        2.51141516e+02, -2.55050229e+02,  3.81702891e+02,  7.54550705e+01,\n",
       "        5.57771867e+02,  1.55564835e+02,  1.46051418e+03,  7.23957279e+01,\n",
       "        3.61762746e+02,  7.30050790e+02,  1.13540031e+02,  6.90609100e+01,\n",
       "        1.44788985e+02,  1.80466350e+02,  1.39812726e+02,  2.18710068e+02,\n",
       "        2.41974164e+02,  2.74527200e+01,  4.53427351e+02,  3.31957798e+02,\n",
       "        5.20549452e+02,  1.16643404e+01, -1.38576187e+01,  1.77422447e+02,\n",
       "        4.28087561e+02,  4.05478072e+02, -6.12863534e+01,  5.35799057e+02,\n",
       "        1.42601965e+02,  1.26440991e+03, -2.17346742e+02,  2.91415631e+02,\n",
       "        7.27348675e+01,  1.29314079e+02,  1.20790364e+02,  1.53874908e+02,\n",
       "        1.34390112e+02])"
      ]
     },
     "execution_count": 464,
     "metadata": {},
     "output_type": "execute_result"
    }
   ],
   "source": [
    "y_pred = rg.predict(x_test)\n",
    "y_pred"
   ]
  },
  {
   "cell_type": "code",
   "execution_count": 465,
   "metadata": {},
   "outputs": [
    {
     "data": {
      "text/plain": [
       "62815.26684479282"
      ]
     },
     "execution_count": 465,
     "metadata": {},
     "output_type": "execute_result"
    }
   ],
   "source": [
    "# checking mean squared error\n",
    "\n",
    "mean_squared_error(y_test,y_pred)"
   ]
  },
  {
   "cell_type": "code",
   "execution_count": 466,
   "metadata": {},
   "outputs": [
    {
     "data": {
      "text/plain": [
       "250.62974054328194"
      ]
     },
     "execution_count": 466,
     "metadata": {},
     "output_type": "execute_result"
    }
   ],
   "source": [
    "np.sqrt(mean_squared_error(y_test,y_pred))"
   ]
  },
  {
   "cell_type": "code",
   "execution_count": 467,
   "metadata": {},
   "outputs": [
    {
     "data": {
      "text/plain": [
       "0.6029849387925894"
      ]
     },
     "execution_count": 467,
     "metadata": {},
     "output_type": "execute_result"
    }
   ],
   "source": [
    "r2_score(y_test,y_pred)"
   ]
  },
  {
   "cell_type": "markdown",
   "metadata": {},
   "source": [
    "### From the above Linear Regression model i get 60.29% score."
   ]
  },
  {
   "cell_type": "markdown",
   "metadata": {},
   "source": [
    "## Random Forest Regressor Model"
   ]
  },
  {
   "cell_type": "code",
   "execution_count": 468,
   "metadata": {},
   "outputs": [
    {
     "data": {
      "text/plain": [
       "RandomForestRegressor()"
      ]
     },
     "execution_count": 468,
     "metadata": {},
     "output_type": "execute_result"
    }
   ],
   "source": [
    "rf = RandomForestRegressor()\n",
    "rf.fit(x_train,y_train)"
   ]
  },
  {
   "cell_type": "code",
   "execution_count": 469,
   "metadata": {},
   "outputs": [
    {
     "data": {
      "text/plain": [
       "0.9683720387662966"
      ]
     },
     "execution_count": 469,
     "metadata": {},
     "output_type": "execute_result"
    }
   ],
   "source": [
    "# adjusted r2 score\n",
    "rf.score(x_train,y_train)"
   ]
  },
  {
   "cell_type": "code",
   "execution_count": 470,
   "metadata": {},
   "outputs": [
    {
     "data": {
      "text/plain": [
       "0.7933696994748576"
      ]
     },
     "execution_count": 470,
     "metadata": {},
     "output_type": "execute_result"
    }
   ],
   "source": [
    "rf.score(x_test,y_test)"
   ]
  },
  {
   "cell_type": "code",
   "execution_count": 471,
   "metadata": {},
   "outputs": [
    {
     "data": {
      "text/plain": [
       "array([  13.713     ,  304.9165    ,  445.2244    ,  109.6875    ,\n",
       "         78.212     ,   50.7344    ,   22.7285    ,   96.409     ,\n",
       "         20.6245    , 1334.2       ,  508.9193    ,   35.43756378,\n",
       "        112.44563778,   18.32      ,   16.2806    ,  118.5944    ,\n",
       "        318.3368    ,   22.535     ,  597.938     , 1306.1332    ,\n",
       "         19.927     ,  715.9618    ,    9.66      ,  546.8835    ,\n",
       "        137.55662   ,   38.7652    ,  300.7895    ,   51.41492756,\n",
       "         21.8267    ,   25.22      ,   51.492     ,  134.4322    ,\n",
       "        596.2866    ,   57.886     ,  116.582     , 1265.1       ,\n",
       "        118.053     ,  628.9181    ,   35.189     ,   41.5905    ,\n",
       "         29.04166378,   32.76046378,  273.0568    ,   38.859     ,\n",
       "        149.42684   ,    5.027     ,  792.56      ,  169.1875    ,\n",
       "        354.5444    ,  151.5035    ,   26.065     ,   14.415     ,\n",
       "         18.6544    ,  146.11282   ,   49.7465    ,   11.0405    ,\n",
       "         22.513     ,   76.76      ,   38.7       ,  617.2522    ,\n",
       "       1176.6       ,   17.585     ,  677.982     ,  708.79      ,\n",
       "         26.7725    ,  193.0408    ,   45.941     ,   54.82146378,\n",
       "        734.31      ,  175.936     ,  141.012     ,  692.86      ,\n",
       "         13.5334    ,  337.518     ,   24.7114    ,  335.1916    ,\n",
       "         56.202     ,  389.7013    ,  356.806     ,  505.886     ,\n",
       "         51.10539133,   57.839     ,   47.407     ,  127.4815    ,\n",
       "         23.746     ,   44.289     ,  774.98      ,   37.627     ,\n",
       "         14.618     ,   21.455     ,  430.1349    ,  641.953     ,\n",
       "       1155.9666    ,  549.3843    ,  112.17592044,   26.2125    ,\n",
       "        256.19      ,  270.2279    ,   51.251     ,  221.0649    ,\n",
       "         41.12521   ,  494.4412    ,   67.977     ,  535.6186    ,\n",
       "          4.94      ,   31.507     ,   18.9685    ,   40.4155    ,\n",
       "         39.0041    ,   28.6345    ,    5.018     ,   35.4515    ,\n",
       "         28.6752    ,   59.79078267,  216.0333    ,   63.103     ,\n",
       "         19.8816    , 1387.4       ,  306.395     ,   10.1166    ,\n",
       "        668.6       ,  398.7923    , 1448.275     ,  297.69946378,\n",
       "        376.0307    ,  104.4399    ,   27.661     ,  615.62      ,\n",
       "        291.64611   ,  227.69441   ,   61.61485511, 1282.        ,\n",
       "         19.3269    ,   32.1535    ,   43.2485    ,   21.617     ,\n",
       "         43.693     ,  118.64842756,  114.44546378,   51.21892756,\n",
       "         31.9786    ,   22.6935    ,   27.562     ,  356.628     ,\n",
       "         65.7175    ,  176.4467    ,  102.22472   ,   25.6445    ,\n",
       "         13.76      ,   93.9525    ,   34.2555    , 1519.0166    ,\n",
       "        523.7095    ,  691.9339    ,  246.2964    ,  557.0224    ,\n",
       "         32.36      ,  116.299     ,   10.797     , 1515.74      ,\n",
       "        868.0792    ,  354.62      ,  395.567     ,   58.0485    ,\n",
       "         13.8645    ,   20.7746    ,   31.507     ,  674.334     ,\n",
       "        318.618     ,  220.3135    , 1438.9       ,    4.385     ,\n",
       "         36.381     ,   63.615     , 1221.1832    ,   13.4125    ,\n",
       "         79.74371   ,   13.7985    ,   25.1482    ,   28.511     ,\n",
       "         22.8319    ,   12.222     ,  180.3455    ,   18.8704    ,\n",
       "        637.66      ,   51.94749133, 1188.6       ,   31.508     ,\n",
       "        251.8308    ,  912.6       ,   45.818     ,   17.379     ,\n",
       "         12.6575    ,   34.889     ,  130.51843   ,   71.769     ,\n",
       "         70.883     ,   88.852     ,  133.8288    ,  497.0148    ,\n",
       "        765.1233    ,  101.5869    ,  120.08      ,   98.3561    ,\n",
       "         18.66      ,  504.6102    ,   10.4975    ,  172.8653    ,\n",
       "         45.1075    , 1323.85      ,   45.651     ,   57.6305    ,\n",
       "         31.98      ,   44.069     ,  137.0318    ,   42.541     ,\n",
       "        330.268     ])"
      ]
     },
     "execution_count": 471,
     "metadata": {},
     "output_type": "execute_result"
    }
   ],
   "source": [
    "y_pred = rf.predict(x_test)\n",
    "y_pred"
   ]
  },
  {
   "cell_type": "code",
   "execution_count": 472,
   "metadata": {},
   "outputs": [
    {
     "data": {
      "text/plain": [
       "32692.808746934974"
      ]
     },
     "execution_count": 472,
     "metadata": {},
     "output_type": "execute_result"
    }
   ],
   "source": [
    "# checking mean squared error\n",
    "\n",
    "mean_squared_error(y_test,y_pred)"
   ]
  },
  {
   "cell_type": "code",
   "execution_count": 473,
   "metadata": {},
   "outputs": [
    {
     "data": {
      "text/plain": [
       "180.81152824677682"
      ]
     },
     "execution_count": 473,
     "metadata": {},
     "output_type": "execute_result"
    }
   ],
   "source": [
    "np.sqrt(mean_squared_error(y_test,y_pred))"
   ]
  },
  {
   "cell_type": "code",
   "execution_count": 474,
   "metadata": {},
   "outputs": [
    {
     "data": {
      "text/plain": [
       "0.7933696994748576"
      ]
     },
     "execution_count": 474,
     "metadata": {},
     "output_type": "execute_result"
    }
   ],
   "source": [
    "r2_score(y_test,y_pred)"
   ]
  },
  {
   "cell_type": "markdown",
   "metadata": {},
   "source": [
    "### From the above Random Forest model i get 79.33% score"
   ]
  },
  {
   "cell_type": "markdown",
   "metadata": {},
   "source": [
    "## Decision Tree Regressor Model"
   ]
  },
  {
   "cell_type": "code",
   "execution_count": 475,
   "metadata": {},
   "outputs": [
    {
     "data": {
      "text/plain": [
       "DecisionTreeRegressor()"
      ]
     },
     "execution_count": 475,
     "metadata": {},
     "output_type": "execute_result"
    }
   ],
   "source": [
    "dt = DecisionTreeRegressor()\n",
    "dt.fit(x_train,y_train)"
   ]
  },
  {
   "cell_type": "code",
   "execution_count": 476,
   "metadata": {},
   "outputs": [
    {
     "data": {
      "text/plain": [
       "1.0"
      ]
     },
     "execution_count": 476,
     "metadata": {},
     "output_type": "execute_result"
    }
   ],
   "source": [
    "# adjusted r2 score\n",
    "dt.score(x_train,y_train)"
   ]
  },
  {
   "cell_type": "code",
   "execution_count": 477,
   "metadata": {},
   "outputs": [
    {
     "data": {
      "text/plain": [
       "0.6029219879725619"
      ]
     },
     "execution_count": 477,
     "metadata": {},
     "output_type": "execute_result"
    }
   ],
   "source": [
    "dt.score(x_test,y_test)"
   ]
  },
  {
   "cell_type": "code",
   "execution_count": 478,
   "metadata": {},
   "outputs": [
    {
     "data": {
      "text/plain": [
       "array([1.70000e+00, 4.45000e+02, 3.00000e+02, 3.50000e+01, 9.48000e+01,\n",
       "       4.90000e+01, 3.00000e+00, 9.48000e+01, 1.50000e+01, 1.05000e+03,\n",
       "       1.45800e+03, 1.00000e+00, 2.00000e+02, 5.00000e+00, 1.60000e+01,\n",
       "       6.40000e+01, 3.00000e+02, 1.00000e+01, 6.00000e+02, 1.20000e+03,\n",
       "       1.65000e+01, 6.00000e+02, 5.00000e+00, 1.45800e+03, 1.20000e+02,\n",
       "       2.28000e+01, 3.88000e+02, 7.50000e+01, 1.60000e+01, 2.25000e+01,\n",
       "       3.92000e+01, 1.55000e+02, 9.00000e+02, 9.18000e+01, 2.00000e+01,\n",
       "       1.32000e+03, 4.60000e+01, 1.60000e+03, 4.00000e+01, 5.07000e+01,\n",
       "       2.60000e+01, 2.60000e+01, 3.00000e+02, 2.50000e+01, 3.00000e+02,\n",
       "       1.00000e+00, 6.48000e+02, 1.19800e+02, 3.88500e+02, 1.32000e+02,\n",
       "       2.50000e+01, 5.00000e+00, 2.40000e+01, 1.60000e+02, 1.02000e+02,\n",
       "       9.00000e+00, 1.50000e+01, 9.48000e+01, 3.60000e+01, 6.00000e+02,\n",
       "       1.20000e+03, 1.50000e+00, 5.00000e+02, 6.90000e+02, 4.00000e+01,\n",
       "       2.90000e+02, 4.90000e+01, 4.55000e+01, 1.20000e+03, 2.46000e+02,\n",
       "       2.00000e+01, 6.00000e+02, 1.00000e+00, 2.40000e+02, 2.18400e+01,\n",
       "       1.36500e+02, 7.50000e+01, 3.00000e+02, 3.00000e+02, 8.00000e+02,\n",
       "       4.45000e+02, 1.97000e+01, 1.98000e+01, 7.50000e+01, 1.80000e+01,\n",
       "       5.00000e+00, 6.30000e+02, 5.00000e+01, 9.00000e+00, 5.00000e+00,\n",
       "       1.36500e+02, 6.00000e+02, 1.14750e+03, 6.00000e+02, 3.76000e+01,\n",
       "       1.02500e+01, 3.60000e+01, 1.26000e+02, 2.55000e+01, 9.00000e+01,\n",
       "       3.00000e+01, 3.30000e+02, 6.32000e+01, 1.36500e+02, 5.00000e+00,\n",
       "       5.00000e+00, 1.70000e+00, 3.00000e+01, 2.60000e+01, 5.04000e+01,\n",
       "       5.00000e+00, 1.05000e+01, 1.80000e+01, 5.00000e+01, 1.92000e+02,\n",
       "       2.34000e+02, 2.20000e+01, 1.50000e+03, 9.00000e+01, 2.10000e+00,\n",
       "       9.20000e+02, 7.02860e+02, 1.50000e+03, 3.00000e+01, 2.70500e+02,\n",
       "       1.39200e+02, 5.00000e+00, 6.30000e+02, 3.74571e+02, 1.72000e+02,\n",
       "       4.55000e+01, 1.55000e+03, 1.50000e+01, 1.52000e+01, 3.15000e+01,\n",
       "       1.80000e+01, 3.00000e+01, 1.50000e+01, 1.50000e+01, 5.04000e+01,\n",
       "       1.65000e+01, 1.00000e+00, 2.00000e+01, 3.00000e+02, 4.14000e+01,\n",
       "       1.19800e+02, 1.40000e+02, 9.00000e+00, 1.80000e+01, 7.50000e+01,\n",
       "       2.10000e+01, 1.50000e+03, 1.20000e+01, 6.00000e+02, 3.00000e+02,\n",
       "       6.00000e+02, 4.00000e+01, 2.70000e+02, 5.00000e+00, 1.95600e+03,\n",
       "       6.00000e+02, 9.00000e+01, 4.00000e+02, 1.50000e+01, 2.10000e+01,\n",
       "       2.00000e+01, 5.00000e+00, 1.20000e+03, 3.10000e+02, 3.88000e+02,\n",
       "       1.32000e+03, 3.00000e+00, 3.50000e+01, 1.00000e+01, 1.10000e+03,\n",
       "       5.00000e+00, 5.50000e+01, 5.62500e+01, 1.80000e+01, 9.00000e+00,\n",
       "       4.00000e+01, 5.00000e+00, 1.00000e+02, 1.00000e+01, 6.30000e+02,\n",
       "       5.07000e+01, 1.00000e+03, 2.00000e+01, 1.35000e+02, 1.03500e+03,\n",
       "       9.87000e+01, 2.10000e+01, 5.00000e+00, 3.00000e+01, 1.40000e+02,\n",
       "       4.90000e+01, 3.60000e+01, 6.24000e+01, 1.66500e+02, 1.20000e+03,\n",
       "       6.05000e+02, 1.39200e+02, 9.90000e+01, 9.00000e+01, 6.00000e+00,\n",
       "       2.90000e+02, 3.60000e+00, 3.00000e+01, 4.90000e+01, 1.00000e+03,\n",
       "       4.00000e+01, 5.80000e+00, 5.00000e+01, 5.04000e+01, 1.35000e+02,\n",
       "       2.00000e+01, 2.40000e+02])"
      ]
     },
     "execution_count": 478,
     "metadata": {},
     "output_type": "execute_result"
    }
   ],
   "source": [
    "y_pred = dt.predict(x_test)\n",
    "y_pred"
   ]
  },
  {
   "cell_type": "code",
   "execution_count": 479,
   "metadata": {},
   "outputs": [
    {
     "data": {
      "text/plain": [
       "62825.22685121197"
      ]
     },
     "execution_count": 479,
     "metadata": {},
     "output_type": "execute_result"
    }
   ],
   "source": [
    "# checking mean squared error\n",
    "\n",
    "mean_squared_error(y_test,y_pred)"
   ]
  },
  {
   "cell_type": "code",
   "execution_count": 480,
   "metadata": {},
   "outputs": [
    {
     "data": {
      "text/plain": [
       "250.64960971685548"
      ]
     },
     "execution_count": 480,
     "metadata": {},
     "output_type": "execute_result"
    }
   ],
   "source": [
    "np.sqrt(mean_squared_error(y_test,y_pred))"
   ]
  },
  {
   "cell_type": "code",
   "execution_count": 481,
   "metadata": {},
   "outputs": [
    {
     "data": {
      "text/plain": [
       "0.6029219879725619"
      ]
     },
     "execution_count": 481,
     "metadata": {},
     "output_type": "execute_result"
    }
   ],
   "source": [
    "r2_score(y_test,y_pred)"
   ]
  },
  {
   "cell_type": "markdown",
   "metadata": {},
   "source": [
    "### From the above Decision Tree Regressor Model i get 60.29% score"
   ]
  },
  {
   "cell_type": "markdown",
   "metadata": {},
   "source": [
    "## Regularization"
   ]
  },
  {
   "cell_type": "markdown",
   "metadata": {},
   "source": [
    "### According to my perception i have used LassoCV to find the best parameter by using regularization method. "
   ]
  },
  {
   "cell_type": "code",
   "execution_count": 482,
   "metadata": {},
   "outputs": [],
   "source": [
    "# lasso regularization\n",
    "\n",
    "lasscv = LassoCV(alphas = None,cv=10,max_iter=5000,normalize=True)"
   ]
  },
  {
   "cell_type": "code",
   "execution_count": 483,
   "metadata": {},
   "outputs": [
    {
     "data": {
      "text/plain": [
       "LassoCV(cv=10, max_iter=5000, normalize=True)"
      ]
     },
     "execution_count": 483,
     "metadata": {},
     "output_type": "execute_result"
    }
   ],
   "source": [
    "lasscv.fit(x_train,y_train)"
   ]
  },
  {
   "cell_type": "code",
   "execution_count": 484,
   "metadata": {},
   "outputs": [
    {
     "data": {
      "text/plain": [
       "0.11837505979857331"
      ]
     },
     "execution_count": 484,
     "metadata": {},
     "output_type": "execute_result"
    }
   ],
   "source": [
    "# best alphas parameters\n",
    "\n",
    "alpha = lasscv.alpha_\n",
    "alpha"
   ]
  },
  {
   "cell_type": "code",
   "execution_count": 485,
   "metadata": {},
   "outputs": [
    {
     "data": {
      "text/plain": [
       "Lasso(alpha=0.11837505979857331)"
      ]
     },
     "execution_count": 485,
     "metadata": {},
     "output_type": "execute_result"
    }
   ],
   "source": [
    "# now we have best parameter lets use the lasso regularization\n",
    "\n",
    "lasso_reg = Lasso(alpha)\n",
    "lasso_reg.fit(x_train,y_train)"
   ]
  },
  {
   "cell_type": "code",
   "execution_count": 486,
   "metadata": {},
   "outputs": [
    {
     "data": {
      "text/plain": [
       "0.6030795329726951"
      ]
     },
     "execution_count": 486,
     "metadata": {},
     "output_type": "execute_result"
    }
   ],
   "source": [
    "lasso_reg.score(x_test,y_test)"
   ]
  },
  {
   "cell_type": "markdown",
   "metadata": {},
   "source": [
    "### From the best parametee the lasso score is 60.30%"
   ]
  },
  {
   "cell_type": "markdown",
   "metadata": {},
   "source": [
    "## Saving the Best Model"
   ]
  },
  {
   "cell_type": "code",
   "execution_count": 487,
   "metadata": {},
   "outputs": [],
   "source": [
    "import pickle"
   ]
  },
  {
   "cell_type": "code",
   "execution_count": 488,
   "metadata": {},
   "outputs": [],
   "source": [
    "# saving the Random Forest Regressor Model\n",
    "\n",
    "filename = 'finalized_model.pickle'\n",
    "pickle.dump(rf,open(filename,'wb'))\n",
    "\n",
    "loaded_model = pickle.load(open(filename,'rb'))"
   ]
  },
  {
   "cell_type": "markdown",
   "metadata": {},
   "source": [
    "### From the Above Coding I Get best model Random Forest Accuracy Score.\n",
    "### So I use Random Forest Regressor to Save the Best Model."
   ]
  },
  {
   "cell_type": "markdown",
   "metadata": {},
   "source": [
    "# Conclusion"
   ]
  },
  {
   "cell_type": "markdown",
   "metadata": {},
   "source": [
    "### Classification Model Building:\n",
    "#### In the modeling Building section, I have seen the hyperparameter tuned Random Forest has the highest Best Score (0.84).\n",
    "\n",
    "### Regression Model Building:\n",
    "#### In the modeling Building section, I have seen the regularization method, Random Forest Regressor has the highest Best Score (79.33%). \n"
   ]
  },
  {
   "cell_type": "code",
   "execution_count": null,
   "metadata": {},
   "outputs": [],
   "source": []
  }
 ],
 "metadata": {
  "kernelspec": {
   "display_name": "Python 3",
   "language": "python",
   "name": "python3"
  },
  "language_info": {
   "codemirror_mode": {
    "name": "ipython",
    "version": 3
   },
   "file_extension": ".py",
   "mimetype": "text/x-python",
   "name": "python",
   "nbconvert_exporter": "python",
   "pygments_lexer": "ipython3",
   "version": "3.8.5"
  }
 },
 "nbformat": 4,
 "nbformat_minor": 4
}
